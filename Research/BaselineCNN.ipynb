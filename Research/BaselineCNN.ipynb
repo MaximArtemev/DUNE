{
 "cells": [
  {
   "cell_type": "code",
   "execution_count": 14,
   "metadata": {},
   "outputs": [],
   "source": [
    "# !pip3 install --upgrade torch --user\n",
    "# !pip3 install torchvision --user\n",
    "\n",
    "import numpy as np\n",
    "import pandas as pd\n",
    "import matplotlib.pyplot as plt\n",
    "\n",
    "import os\n",
    "import pickle\n",
    "import tqdm\n",
    "\n",
    "import torch\n",
    "import torch.nn.functional as F\n",
    "import torch.nn as nn\n",
    "\n",
    "from torch.nn.parameter import Parameter\n",
    "import math\n",
    "from torch.nn.modules.utils import _pair\n",
    "\n",
    "\n",
    "\n",
    "\n",
    "from torchvision import datasets\n",
    "from torchvision import transforms\n",
    "\n",
    "from utils.model_utils import PatchLoader, NonLocalAggregation\n",
    "from utils.martemev_utils import compute_psnr, get_freer_gpu, get_closest_diff\n",
    "\n",
    "from time import time\n",
    "\n",
    "# model[0].weight.grad"
   ]
  },
  {
   "cell_type": "code",
   "execution_count": 3,
   "metadata": {},
   "outputs": [],
   "source": [
    "# !rm -r ./TensorBoard/BaselineCNN.v0/"
   ]
  },
  {
   "cell_type": "code",
   "execution_count": 4,
   "metadata": {},
   "outputs": [],
   "source": [
    "BATCH_SIZE = 64\n",
    "NUM_WORKERS = 1\n",
    "\n",
    "GPU_NUM = 2\n",
    "\n",
    "K_CLOSEST = 8\n",
    "HIDDEN_SIZE = 66\n",
    "PATCH_SIZE = (33, 33)\n",
    "\n",
    "MODEL_NAME = 'BaselineCNN.v0'"
   ]
  },
  {
   "cell_type": "code",
   "execution_count": 5,
   "metadata": {},
   "outputs": [],
   "source": [
    "def calculate_pad(shape1, shape2):\n",
    "    \"\"\"\n",
    "    x -> dim=-2\n",
    "    y -> dim=-1\n",
    "    \"\"\"\n",
    "    return_pad = [0, 0, 0, 0]\n",
    "    im_x, im_y = shape1\n",
    "    pad_x, pad_y = shape2\n",
    "    \n",
    "    if (pad_x - (im_x%pad_x))%2 == 0:\n",
    "        return_pad[2] = (pad_x - (im_x%pad_x))//2\n",
    "        return_pad[3] = (pad_x - (im_x%pad_x))//2\n",
    "    else:\n",
    "        return_pad[2] = (pad_x - (im_x%pad_x))//2\n",
    "        return_pad[3] = (pad_x - (im_x%pad_x))//2 + 1\n",
    "\n",
    "    if (pad_y - (im_y%pad_y))%2 == 0:\n",
    "        return_pad[0] = (pad_y - (im_y%pad_y))//2\n",
    "        return_pad[1] = (im_y%pad_y)//2\n",
    "    else:\n",
    "        return_pad[0] = (pad_y - (im_y%pad_y))//2\n",
    "        return_pad[1] = (pad_y - (im_y%pad_y))//2 + 1\n",
    "    return return_pad"
   ]
  },
  {
   "cell_type": "code",
   "execution_count": 6,
   "metadata": {},
   "outputs": [],
   "source": [
    "def split_image(image):\n",
    "    p_x, p_y = PATCH_SIZE\n",
    "    image = image.squeeze()\n",
    "    image = F.pad(image, calculate_pad(image.shape, PATCH_SIZE), mode='constant', value=image.mean())\n",
    "    splits = torch.split(torch.stack(torch.split(image, p_x)), p_y, dim=1)\n",
    "    crops = torch.stack(splits, dim=1)        \n",
    "    crops = crops.view(-1, 1, p_x, p_y)\n",
    "    crops = torch.split(crops, BATCH_SIZE, dim=0)\n",
    "    return crops, image.shape"
   ]
  },
  {
   "cell_type": "code",
   "execution_count": 7,
   "metadata": {},
   "outputs": [],
   "source": [
    "def combine_image(crops, shape):\n",
    "    shape_x, shape_y = shape\n",
    "    answer = torch.cat([i for i in crops], dim=0)\n",
    "    return answer.view(shape_x, shape_y)\n"
   ]
  },
  {
   "cell_type": "code",
   "execution_count": 8,
   "metadata": {},
   "outputs": [],
   "source": [
    "def combine_image_model(crops, model, device, shape):\n",
    "    shape_x, shape_y = shape\n",
    "    answer = torch.cat([crop - model(crop.to(device)).cpu().data for crop in crops], dim=0)\n",
    "    return answer.view(shape_x, shape_y)\n"
   ]
  },
  {
   "cell_type": "code",
   "execution_count": 9,
   "metadata": {},
   "outputs": [],
   "source": [
    "class PlaneLoader(torch.utils.data.Dataset):\n",
    "    def __init__(self, clear_data, noised_data):\n",
    "        self.clear_data = [i for i in torch.load(clear_data) if i.std() < 0.05]\n",
    "        self.noised_data = [i for i in torch.load(noised_data) if i.std() < 0.05]\n",
    "         \n",
    "    def __len__(self):\n",
    "        return len(self.noised_data)\n",
    "    def __getitem__(self, index):\n",
    "        return self.clear_data[index], self.noised_data[index]"
   ]
  },
  {
   "cell_type": "code",
   "execution_count": 10,
   "metadata": {},
   "outputs": [],
   "source": [
    "train_dataloader = torch.utils.data.DataLoader(\n",
    "    PlaneLoader('../Data/train/clear/normalized_data.tensor',\n",
    "                '../Data/train/noised/normalized_data.tensor'), \n",
    "    batch_size=1,\n",
    "    num_workers=NUM_WORKERS,\n",
    "    shuffle=True)\n",
    "\n",
    "val_dataloader = torch.utils.data.DataLoader(\n",
    "    PatchLoader('../Data/val/clear/normalized_data.tensor',\n",
    "                '../Data/val/noised/normalized_data.tensor'), \n",
    "    batch_size=1,\n",
    "    num_workers=NUM_WORKERS,\n",
    "    shuffle=True)"
   ]
  },
  {
   "cell_type": "code",
   "execution_count": 11,
   "metadata": {},
   "outputs": [
    {
     "data": {
      "text/plain": [
       "device(type='cpu')"
      ]
     },
     "execution_count": 11,
     "metadata": {},
     "output_type": "execute_result"
    }
   ],
   "source": [
    "# gpu_num = get_freer_gpu()\n",
    "# device = torch.device('cuda:{}'.format(GPU_NUM))\n",
    "device = torch.device('cpu')\n",
    "\n",
    "device"
   ]
  },
  {
   "cell_type": "code",
   "execution_count": 12,
   "metadata": {},
   "outputs": [],
   "source": [
    "def get_layers(n):\n",
    "    for _ in range(n):\n",
    "        yield [nn.Conv2d(64, 64, 3, padding=1), nn.BatchNorm2d(64), nn.ReLU()]\n",
    "        \n",
    "def flatten(iterables):\n",
    "    return (elem for iterable in iterables for elem in iterable)\n"
   ]
  },
  {
   "cell_type": "code",
   "execution_count": 13,
   "metadata": {},
   "outputs": [],
   "source": [
    "model = nn.Sequential(\n",
    "    nn.Conv2d(1, 64, 3, padding=1),\n",
    "    nn.ReLU(),\n",
    "    *flatten(get_layers(17)),\n",
    "    nn.Conv2d(64, 1, 3, padding=1)\n",
    ").to(device)\n",
    "\n",
    "optim = torch.optim.Adam(model.parameters())\n",
    "scheduler = torch.optim.lr_scheduler.LambdaLR(optim, lambda x: 0.97**x)"
   ]
  },
  {
   "cell_type": "code",
   "execution_count": 15,
   "metadata": {},
   "outputs": [],
   "source": [
    "from tensorboardX import SummaryWriter\n",
    "import torchvision.utils as vutils\n",
    "\n",
    "\n",
    "writer = SummaryWriter('./TensorBoard/{}'.format(MODEL_NAME))"
   ]
  },
  {
   "cell_type": "code",
   "execution_count": 21,
   "metadata": {},
   "outputs": [],
   "source": [
    "val_images_clear =  torch.load('../Data/val/clear/normalized_data.tensor')\n",
    "val_images_noised =  torch.load('../Data/val/noised/normalized_data.tensor')"
   ]
  },
  {
   "cell_type": "code",
   "execution_count": 22,
   "metadata": {},
   "outputs": [
    {
     "data": {
      "application/vnd.jupyter.widget-view+json": {
       "model_id": "dd4deff3b0a242489cb03d67034c058d",
       "version_major": 2,
       "version_minor": 0
      },
      "text/plain": [
       "HBox(children=(IntProgress(value=0), HTML(value='')))"
      ]
     },
     "metadata": {},
     "output_type": "display_data"
    },
    {
     "data": {
      "application/vnd.jupyter.widget-view+json": {
       "model_id": "",
       "version_major": 2,
       "version_minor": 0
      },
      "text/plain": [
       "HBox(children=(IntProgress(value=0, description='Train loop', max=133, style=ProgressStyle(description_width='…"
      ]
     },
     "metadata": {},
     "output_type": "display_data"
    },
    {
     "data": {
      "application/vnd.jupyter.widget-view+json": {
       "model_id": "",
       "version_major": 2,
       "version_minor": 0
      },
      "text/plain": [
       "HBox(children=(IntProgress(value=0, description='Test loop', max=22, style=ProgressStyle(description_width='in…"
      ]
     },
     "metadata": {},
     "output_type": "display_data"
    },
    {
     "ename": "RuntimeError",
     "evalue": "shape '[960, 4492]' is invalid for input of size 4475790",
     "output_type": "error",
     "traceback": [
      "\u001b[0;31m---------------------------------------------------------------------------\u001b[0m",
      "\u001b[0;31mRuntimeError\u001b[0m                              Traceback (most recent call last)",
      "\u001b[0;32m<ipython-input-22-0979b6b1fa0d>\u001b[0m in \u001b[0;36m<module>\u001b[0;34m\u001b[0m\n\u001b[1;32m     55\u001b[0m     \u001b[0mstart_time\u001b[0m \u001b[0;34m=\u001b[0m \u001b[0mtime\u001b[0m\u001b[0;34m(\u001b[0m\u001b[0;34m)\u001b[0m\u001b[0;34m\u001b[0m\u001b[0m\n\u001b[1;32m     56\u001b[0m     \u001b[0mnoised_image_chunks\u001b[0m \u001b[0;34m=\u001b[0m \u001b[0msplit_image\u001b[0m\u001b[0;34m(\u001b[0m\u001b[0mnoised_image\u001b[0m\u001b[0;34m)\u001b[0m\u001b[0;34m\u001b[0m\u001b[0m\n\u001b[0;32m---> 57\u001b[0;31m     \u001b[0mdenoised_image\u001b[0m \u001b[0;34m=\u001b[0m \u001b[0mcombine_image_model\u001b[0m\u001b[0;34m(\u001b[0m\u001b[0mnoised_image_chunks\u001b[0m\u001b[0;34m,\u001b[0m \u001b[0mmodel\u001b[0m\u001b[0;34m,\u001b[0m \u001b[0mdevice\u001b[0m\u001b[0;34m,\u001b[0m \u001b[0mnoised_image\u001b[0m\u001b[0;34m.\u001b[0m\u001b[0mshape\u001b[0m\u001b[0;34m[\u001b[0m\u001b[0;36m1\u001b[0m\u001b[0;34m:\u001b[0m\u001b[0;34m]\u001b[0m\u001b[0;34m)\u001b[0m\u001b[0;34m\u001b[0m\u001b[0m\n\u001b[0m\u001b[1;32m     58\u001b[0m     \u001b[0mdenoised_image\u001b[0m \u001b[0;34m=\u001b[0m \u001b[0mdenoised_image\u001b[0m\u001b[0;34m.\u001b[0m\u001b[0munsqueeze\u001b[0m\u001b[0;34m(\u001b[0m\u001b[0;36m0\u001b[0m\u001b[0;34m)\u001b[0m\u001b[0;34m\u001b[0m\u001b[0m\n\u001b[1;32m     59\u001b[0m     \u001b[0mend_time\u001b[0m \u001b[0;34m=\u001b[0m \u001b[0mtime\u001b[0m\u001b[0;34m(\u001b[0m\u001b[0;34m)\u001b[0m \u001b[0;34m-\u001b[0m \u001b[0mstart_time\u001b[0m\u001b[0;34m\u001b[0m\u001b[0m\n",
      "\u001b[0;32m<ipython-input-8-db7ffc54559d>\u001b[0m in \u001b[0;36mcombine_image_model\u001b[0;34m(crops, model, device, shape)\u001b[0m\n\u001b[1;32m      2\u001b[0m     \u001b[0mshape_x\u001b[0m\u001b[0;34m,\u001b[0m \u001b[0mshape_y\u001b[0m \u001b[0;34m=\u001b[0m \u001b[0mshape\u001b[0m\u001b[0;34m\u001b[0m\u001b[0m\n\u001b[1;32m      3\u001b[0m     \u001b[0manswer\u001b[0m \u001b[0;34m=\u001b[0m \u001b[0mtorch\u001b[0m\u001b[0;34m.\u001b[0m\u001b[0mcat\u001b[0m\u001b[0;34m(\u001b[0m\u001b[0;34m[\u001b[0m\u001b[0mcrop\u001b[0m \u001b[0;34m-\u001b[0m \u001b[0mmodel\u001b[0m\u001b[0;34m(\u001b[0m\u001b[0mcrop\u001b[0m\u001b[0;34m.\u001b[0m\u001b[0mto\u001b[0m\u001b[0;34m(\u001b[0m\u001b[0mdevice\u001b[0m\u001b[0;34m)\u001b[0m\u001b[0;34m)\u001b[0m\u001b[0;34m.\u001b[0m\u001b[0mcpu\u001b[0m\u001b[0;34m(\u001b[0m\u001b[0;34m)\u001b[0m\u001b[0;34m.\u001b[0m\u001b[0mdata\u001b[0m \u001b[0;32mfor\u001b[0m \u001b[0mcrop\u001b[0m \u001b[0;32min\u001b[0m \u001b[0mcrops\u001b[0m\u001b[0;34m]\u001b[0m\u001b[0;34m,\u001b[0m \u001b[0mdim\u001b[0m\u001b[0;34m=\u001b[0m\u001b[0;36m0\u001b[0m\u001b[0;34m)\u001b[0m\u001b[0;34m\u001b[0m\u001b[0m\n\u001b[0;32m----> 4\u001b[0;31m     \u001b[0;32mreturn\u001b[0m \u001b[0manswer\u001b[0m\u001b[0;34m.\u001b[0m\u001b[0mview\u001b[0m\u001b[0;34m(\u001b[0m\u001b[0mshape_x\u001b[0m\u001b[0;34m,\u001b[0m \u001b[0mshape_y\u001b[0m\u001b[0;34m)\u001b[0m\u001b[0;34m\u001b[0m\u001b[0m\n\u001b[0m",
      "\u001b[0;31mRuntimeError\u001b[0m: shape '[960, 4492]' is invalid for input of size 4475790"
     ]
    }
   ],
   "source": [
    "for epoch in tqdm.tqdm_notebook(range(100)):\n",
    "    model.train()\n",
    "    for train_ind, (image, noise_image) in enumerate(tqdm.tqdm_notebook(train_dataloader, desc='Train loop', leave=False)):\n",
    "        image_mean = image.mean()\n",
    "        for clean_crop_batch, noisy_crop_batch in zip(split_image(image)[0], split_image(noise_image)[0]):\n",
    "            optim.zero_grad()\n",
    "            clean_crop_batch, noisy_crop_batch = clean_crop_batch.to(device), \\\n",
    "                                                    noisy_crop_batch.to(device)\n",
    "            start_time = time()\n",
    "            denoised_diff = model(noisy_crop_batch)\n",
    "            end_time = time() - start_time\n",
    "            writer.add_scalar('train/iteration_time', end_time)\n",
    "            added_noise = noisy_crop_batch - clean_crop_batch\n",
    "            max_signals = torch.max(clean_crop_batch.view(image.shape[0], -1), dim=1)[0] + image_mean\n",
    "            weighted_mse = torch.mean(max_signals * torch.mean(((denoised_diff - added_noise)**2).view(denoised_diff.shape[0], -1), dim=(1)))\n",
    "            loss = weighted_mse\n",
    "            writer.add_scalar('train/weighted_mse_loss', loss.item())\n",
    "            writer.add_scalar('train/plain_mse_loss', nn.MSELoss()(denoised_diff, added_noise).item())\n",
    "            loss.backward()\n",
    "            \n",
    "            writer.add_scalar('grad/layer_1', model[0].weight.grad.data.norm(2).item())\n",
    "            writer.add_scalar('grad/layer_53', model[53].weight.grad.data.norm(2).item())\n",
    "            writer.add_scalar('grad/layer_38', model[38].weight.grad.data.norm(2).item())\n",
    "            writer.add_scalar('grad/layer_11', model[11].weight.grad.data.norm(2).item())\n",
    "            \n",
    "            optim.step()\n",
    "            writer.add_scalar('train/psnr', compute_psnr(clean_crop_batch, noisy_crop_batch - denoised_diff))\n",
    "    scheduler.step()\n",
    "    model.eval()\n",
    "    losses, psnrs = [], []\n",
    "    for val_ind, (image, noise_image) in enumerate(tqdm.tqdm_notebook(val_dataloader, desc='Test loop', leave=False)):\n",
    "        image_mean = image.mean()\n",
    "        for clean_crop_batch, noisy_crop_batch in zip(split_image(image)[0], split_image(noise_image)[0]):\n",
    "            clean_crop_batch, noisy_crop_batch = clean_crop_batch.to(device), \\\n",
    "                                                    noisy_crop_batch.to(device)\n",
    "            denoised_diff = model(noisy_crop_batch)\n",
    "            added_noise = noisy_crop_batch - clean_crop_batch\n",
    "            max_signals = torch.max(clean_crop_batch.view(image.shape[0], -1), dim=1)[0] + image_mean\n",
    "            weighted_mse = torch.mean(max_signals * torch.mean(((denoised_diff - added_noise)**2).view(denoised_diff.shape[0], -1), dim=(1)))\n",
    "            loss = weighted_mse\n",
    "            losses.append(loss.item())\n",
    "            psnrs.append(compute_psnr(clean_crop_batch, noisy_crop_batch - denoised_diff))\n",
    "    writer.add_scalar('val/psnr', np.mean(psnrs), epoch)\n",
    "    writer.add_scalar('val/combined_loss', np.mean(losses), epoch)\n",
    "    img_indexes = torch.randint(high=len(noisy_crop_batch), size=(10,))\n",
    "    dummy_img = torch.cat([clean_crop_batch[img_indexes],\n",
    "                           noisy_crop_batch[img_indexes],\n",
    "                           (noisy_crop_batch - denoised_diff)[img_indexes]], dim=0).cpu().data\n",
    "    x = vutils.make_grid(dummy_img, nrow=10)\n",
    "    writer.add_image('val/crops', x, epoch)\n",
    "\n",
    "    img_index = torch.randint(high=len(val_images_clear), size=(1,))\n",
    "    clear_image = val_images_clear[img_index]\n",
    "    noised_image = val_images_noised[img_index]\n",
    "    start_time = time()\n",
    "    noised_image_chunks, image_shape = split_image(noised_image)\n",
    "    denoised_image = combine_image_model(noised_image_chunks, model, device, image_shape)\n",
    "    denoised_image = denoised_image.unsqueeze(0)\n",
    "    end_time = time() - start_time\n",
    "    writer.add_scalar('val/full_image_time', end_time, ind)\n",
    "    d_x, d_y = denoised_image.shape[-2:]\n",
    "    writer.add_image('val/clear_image', clear_image[:, :d_x, :d_y], ind)\n",
    "    writer.add_image('val/noised_image', noised_image[:, :d_x, :d_y], ind)\n",
    "    writer.add_image('val/denoised_image', denoised_image[:, :d_x, :d_y], ind)            \n",
    "            \n",
    "            "
   ]
  },
  {
   "cell_type": "code",
   "execution_count": null,
   "metadata": {},
   "outputs": [],
   "source": [
    "torch.save(model.state_dict(), 'SavedModels/{}.state_dict'.format(MODEL_NAME))\n",
    "torch.save(model, 'SavedModels/{}.model'.format(MODEL_NAME))\n"
   ]
  },
  {
   "cell_type": "code",
   "execution_count": null,
   "metadata": {},
   "outputs": [],
   "source": []
  },
  {
   "cell_type": "code",
   "execution_count": null,
   "metadata": {},
   "outputs": [],
   "source": []
  },
  {
   "cell_type": "code",
   "execution_count": null,
   "metadata": {},
   "outputs": [],
   "source": []
  },
  {
   "cell_type": "code",
   "execution_count": null,
   "metadata": {},
   "outputs": [],
   "source": []
  }
 ],
 "metadata": {
  "kernelspec": {
   "display_name": "Python 3",
   "language": "python",
   "name": "python3"
  },
  "language_info": {
   "codemirror_mode": {
    "name": "ipython",
    "version": 3
   },
   "file_extension": ".py",
   "mimetype": "text/x-python",
   "name": "python",
   "nbconvert_exporter": "python",
   "pygments_lexer": "ipython3",
   "version": "3.6.3"
  }
 },
 "nbformat": 4,
 "nbformat_minor": 2
}
