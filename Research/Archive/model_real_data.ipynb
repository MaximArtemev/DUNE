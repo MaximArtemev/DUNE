{
 "cells": [
  {
   "cell_type": "code",
   "execution_count": 1,
   "metadata": {},
   "outputs": [],
   "source": [
    "# !pip3 install --upgrade torch --user\n",
    "# !pip3 install torchvision --user\n",
    "\n",
    "import numpy as np\n",
    "import pandas as pd\n",
    "import matplotlib.pyplot as plt\n",
    "\n",
    "import os\n",
    "import pickle\n",
    "import tqdm\n",
    "\n",
    "import torch\n",
    "import torch.nn.functional as F\n",
    "import torch.nn as nn\n",
    "\n",
    "\n",
    "from torchvision import datasets\n",
    "from torchvision import transforms\n",
    "\n"
   ]
  },
  {
   "cell_type": "code",
   "execution_count": 2,
   "metadata": {},
   "outputs": [],
   "source": [
    "# !wget http://cs231n.stanford.edu/tiny-imagenet-200.zip -O ../Data/tiny-imagenet-200.zip\n",
    "# !unzip ../Data/tiny-imagenet-200.zip"
   ]
  },
  {
   "cell_type": "code",
   "execution_count": 3,
   "metadata": {},
   "outputs": [],
   "source": [
    "event_step = 30720\n",
    "ada_step = 12\n",
    "collection_step = 960\n",
    "readout_step = 800\n",
    "\n",
    "\n",
    "class EventSamplerDataset(torch.utils.data.Dataset):\n",
    "    def __init__(self, path_clear='/data/martemev/output_data/',\n",
    "                 path_noise='/data/martemev/input_noised_data/'):\n",
    "        super().__init__()\n",
    "        self.path_clear = path_clear\n",
    "        self.path_noise = path_noise\n",
    "                \n",
    "        \n",
    "    def __len__(self):\n",
    "        return 100\n",
    "\n",
    "        \n",
    "    def __getitem__(self, index):\n",
    "        clear_data = np.load(os.path.join(self.path_clear, 'onlysignal_evt{}.npy'.format(index+1)))[:, 2:]\n",
    "        noised_data = np.load(os.path.join(self.path_noise, 'event_{}_noised.npy'.format(index)))[:, 3:]\n",
    "        if max([clear_data[i*2*readout_step:i*2*readout_step + collection_step].max() for i in range(12)]) == 0:\n",
    "            return self.__getitem__(index+1)\n",
    "        return clear_data, noised_data"
   ]
  },
  {
   "cell_type": "code",
   "execution_count": 4,
   "metadata": {},
   "outputs": [],
   "source": [
    "# right now we are only returning first collection plane\n",
    "\n",
    "class PaneSamplerDataset(torch.utils.data.Dataset):\n",
    "    def __init__(self, clear_data, noised_data):\n",
    "        \"\"\"\n",
    "        clear_data, noised_data - torch.Tensor with shapes 30720 x 4492\n",
    "        \"\"\"\n",
    "        super().__init__()\n",
    "        self.clear_data = clear_data\n",
    "        self.noised_data = noised_data\n",
    "        \n",
    "        self.signal_panes = [1, 2, 5, 6, 9, 10]\n",
    "        \n",
    "    def __len__(self):\n",
    "        return 6\n",
    "    \n",
    "    def normalize(self, im):\n",
    "        return (im - im.min())/(im.max()-im.min())\n",
    "        \n",
    "    def __getitem__(self, ind):\n",
    "        index = self.signal_panes[ind]\n",
    "        clear_read_panes = self.clear_data[index*(readout_step*2 + collection_step):\n",
    "                                          (index+1)*(readout_step*2 + collection_step)]\n",
    "        noised_read_panes = self.noised_data[index*(readout_step*2 + collection_step):\n",
    "                                            (index+1)*(readout_step*2 + collection_step)]        \n",
    "        # some of the panes are all zeros\n",
    "        if clear_read_panes[2*readout_step:].max() == 0:\n",
    "            return self.__getitem__(ind+1) # duplicate panes \n",
    "        return self.normalize(clear_read_panes[2*readout_step:]), self.normalize(noised_read_panes[2*readout_step:])\n"
   ]
  },
  {
   "cell_type": "code",
   "execution_count": null,
   "metadata": {},
   "outputs": [],
   "source": []
  },
  {
   "cell_type": "code",
   "execution_count": 5,
   "metadata": {},
   "outputs": [],
   "source": [
    "def twodsoftmax(arr):\n",
    "    arr_ = arr - arr.max()\n",
    "    return torch.exp(arr_)/torch.exp(arr_).sum()\n",
    "\n",
    "def normal_scale(arr):\n",
    "    return arr/arr.max()\n",
    "    # return (arr - arr.mean())/arr.std()\n",
    "\n",
    "class PatchSamplerDataset(torch.utils.data.Dataset):\n",
    "    def __init__(self, clear_data, noised_data):\n",
    "        \"\"\"\n",
    "        clear_data, noised_data - torch.Tensor with shapes 800 x 4492\n",
    "        \"\"\"\n",
    "        super().__init__()\n",
    "        \n",
    "        self.clear_data = torch.Tensor(clear_data)\n",
    "        self.noised_data = torch.Tensor(noised_data)\n",
    "                \n",
    "        # maybe add eps        \n",
    "        # self.softmax_clear_data = twodsoftmax(self.clear_data)\n",
    "#         print(self.softmax_clear_data.max())\n",
    "#         print(self.softmax_clear_data.min())\n",
    "#         print(self.softmax_clear_data.mean())\n",
    "#         print(self.softmax_clear_data)\n",
    "                \n",
    "#         self.clear_data = (self.clear_data - self.clear_data.mean()) / self.clear_data.std()\n",
    "#         self.noised_data = (self.noised_data - self.noised_data.mean()) / self.noised_data.std()\n",
    "#         think about how you can make two images ~ simular distr\n",
    "        \n",
    "    def __len__(self):\n",
    "        return 1000\n",
    "        \n",
    "    def __getitem__(self, index):\n",
    "        distr = torch.distributions.binomial.Binomial(total_count=15, probs=self.clear_data)\n",
    "        samples = torch.nonzero(distr.sample())\n",
    "        while len(samples) < 1:\n",
    "            samples = torch.nonzero(torch.round(distr.sample()))\n",
    "        sample = np.random.choice(len(samples))\n",
    "        sample = samples[sample]\n",
    "#         print(sample)\n",
    "#         print(self.softmax_clear_data[(int(sample[0]), int(sample[1]))])\n",
    "        # self.softmax_clear_data[(int(sample[0]), int(sample[1]))] /= 2 ???\n",
    "        x, y = self.clear_data.shape\n",
    "        sample = (min(max(int(sample[0]), 16), x-16), min(max(int(sample[1]), 16), y-16))\n",
    "        clear_crop = self.clear_data[sample[0]-16:sample[0]+16, sample[1]-16:sample[1]+16]\n",
    "\n",
    "        noised_crop = self.noised_data[sample[0]-16:sample[0]+16, sample[1]-16:sample[1]+16]\n",
    "        \n",
    "        return clear_crop.unsqueeze(0), noised_crop.unsqueeze(0)\n",
    "\n",
    "        "
   ]
  },
  {
   "cell_type": "code",
   "execution_count": 6,
   "metadata": {},
   "outputs": [],
   "source": [
    "class FullDataset(torch.utils.data.Dataset):\n",
    "    def __init__(self):\n",
    "        super().__init__()\n",
    "        self.event_sampler_iter = iter(EventSamplerDataset(\n",
    "            path_clear='/data/martemev/output_data/',\n",
    "            path_noise='/data/martemev/input_noised_data/'\n",
    "        ))\n",
    "        self.pane_sampler = PaneSamplerDataset\n",
    "        self.patch_sampler = PatchSamplerDataset\n",
    "        \n",
    "        self.current_event = next(self.event_sampler_iter)\n",
    "        \n",
    "        self.current_pane_sampler = self.pane_sampler(*self.current_event)\n",
    "        self.current_pane_iter = iter(self.current_pane_sampler)\n",
    "        self.current_pane = next(self.current_pane_iter)\n",
    "\n",
    "        self.current_patch_iter = iter(self.patch_sampler(*self.current_pane))\n",
    "        \n",
    "    def __len__(self):\n",
    "        # 1000 patches, 6 panes, 100 events\n",
    "        return 1000*6*100\n",
    "    \n",
    "    def __getitem__(self, index):\n",
    "        try:\n",
    "            return next(self.current_patch_iter)\n",
    "        except StopIteration:\n",
    "            print('One pane finished, going for the next one')\n",
    "            try:\n",
    "                self.current_pane = next(self.current_pane_iter)\n",
    "            except StopIteration:\n",
    "                print('One event finished, going for the next one')\n",
    "                try:\n",
    "                    self.current_event = next(self.event_sampler_iter)\n",
    "                except StopIteration:\n",
    "                    print('Dataset is exhausted')\n",
    "                    raise StopIteration\n",
    "                self.current_pane_sampler = self.pane_sampler(*self.current_event)\n",
    "                self.current_pane_iter = iter(self.current_pane_sampler)\n",
    "                self.current_pane = next(self.current_pane_iter)\n",
    "            self.current_patch_iter = iter(self.patch_sampler(*self.current_pane))\n",
    "            return next(self.current_patch_iter)\n",
    "        "
   ]
  },
  {
   "cell_type": "code",
   "execution_count": 7,
   "metadata": {},
   "outputs": [],
   "source": [
    "train_dataloader = torch.utils.data.DataLoader(FullDataset(), batch_size=32, num_workers=48)"
   ]
  },
  {
   "cell_type": "code",
   "execution_count": 8,
   "metadata": {},
   "outputs": [],
   "source": [
    "# event_sampler = EventSamplerDataset()\n",
    "# event_iterator = iter(event_sampler)\n",
    "# event = next(event_iterator)\n",
    "\n",
    "# print(event[0].shape, event[0].max())\n",
    "# print(event[1].shape, event[1].max())\n",
    "\n",
    "# pane_sampler = PaneSamplerDataset(*event)\n",
    "# pane_iterator = iter(pane_sampler)\n",
    "\n",
    "# for pane in pane_iterator:\n",
    "#     print(pane[0].shape, pane[0].max())\n",
    "#     print(pane[1].shape, pane[1].max())\n",
    "\n",
    "# print(pane[0].shape, pane[0].max())\n",
    "# print(pane[1].shape, pane[1].max())\n",
    "\n",
    "# patch_sampler = PatchSamplerDataset(*pane)\n",
    "\n",
    "# train_loader = torch.utils.data.DataLoader(patch_sampler,\n",
    "#                                           batch_size=64,\n",
    "#                                           shuffle=True)\n",
    "\n",
    "# test_loader = torch.utils.data.DataLoader(dataset_test,\n",
    "#                                           batch_size=32,\n",
    "#                                           shuffle=True)"
   ]
  },
  {
   "cell_type": "code",
   "execution_count": null,
   "metadata": {},
   "outputs": [],
   "source": []
  },
  {
   "cell_type": "code",
   "execution_count": 9,
   "metadata": {},
   "outputs": [],
   "source": [
    "# plt.figure(figsize=(15, 15))\n",
    "\n",
    "# im, im_noise = next(iter(train_loader))\n",
    "\n",
    "# for ind in range(1, 37, 2):\n",
    "#     if ind >= 36: break\n",
    "#     plt.subplot(6, 6, ind)\n",
    "#     plt.imshow(im[ind].view(32, 32).numpy())\n",
    "#     plt.yticks([])\n",
    "#     plt.xticks([])\n",
    "    \n",
    "#     plt.subplot(6, 6, ind+1)\n",
    "#     plt.imshow(im_noise[ind].view(32, 32).numpy())\n",
    "\n",
    "# #     plt.title(str(label[0]))\n",
    "\n",
    "# plt.show()"
   ]
  },
  {
   "cell_type": "code",
   "execution_count": 10,
   "metadata": {
    "scrolled": false
   },
   "outputs": [],
   "source": [
    "def get_freer_gpu():\n",
    "    os.system('nvidia-smi -q -d Memory |grep -A4 GPU|grep Free >tmp')\n",
    "    memory_available = [int(x.split()[2]) for x in open('tmp', 'r').readlines()]\n",
    "    return np.argmax(memory_available)\n"
   ]
  },
  {
   "cell_type": "code",
   "execution_count": 11,
   "metadata": {},
   "outputs": [],
   "source": [
    "def pairwise_dist(arr, k):\n",
    "    \"\"\"\n",
    "    arr: torch.Tensor with shape batch x h*w x features\n",
    "    \"\"\"\n",
    "#     arr = arr.view(arr.shape[0], arr.shape[1] * arr.shape[2], -1)\n",
    "    r_arr = torch.sum(arr * arr, dim=2, keepdim=True) # (B,N,1)\n",
    "    mul = torch.matmul(arr, arr.permute(0,2,1))         # (B,M,N)\n",
    "    dist = - (r_arr - 2 * mul + r_arr.permute(0,2,1))       # (B,M,N)\n",
    "    return dist.topk(k=k, dim=-1)[1]\n",
    "\n",
    "\n",
    "def batched_index_select(t, dim, inds):\n",
    "    dummy = inds.unsqueeze(2).expand(inds.size(0), inds.size(1), t.size(2))\n",
    "    out = t.gather(dim, dummy) # b x e x f\n",
    "    return out\n",
    "\n",
    "\n",
    "def get_closest_diff(arr, k):\n",
    "    \"\"\"\n",
    "    arr: torch.Tensor with shape batch x h * w x features\n",
    "    \"\"\"\n",
    "    b, hw, f = arr.shape\n",
    "#     arr = arr.view(b, h*w, f)\n",
    "    dists = pairwise_dist(arr, k)\n",
    "    selected = batched_index_select(arr, 1, dists.view(dists.shape[0], -1)).view(b, hw, k, f)\n",
    "    diff = arr.unsqueeze(2) - selected\n",
    "    return diff\n",
    "    "
   ]
  },
  {
   "cell_type": "code",
   "execution_count": 12,
   "metadata": {},
   "outputs": [],
   "source": [
    "class NonLocalAggregation(nn.Module):\n",
    "    def __init__(self, k, input_channels, out_channels, search_area=None):\n",
    "        super().__init__()\n",
    "        self.k = k\n",
    "        self.diff_fc = nn.Linear(input_channels, out_channels)\n",
    "        self.w_self = nn.Linear(input_channels, out_channels)\n",
    "        self.bias = nn.Parameter(torch.randn(out_channels), requires_grad=True)\n",
    "        \n",
    "    def forward(self, x):\n",
    "        \"\"\"\n",
    "        x: torch.Tensor with shape batch x features x h x w\n",
    "        \"\"\"\n",
    "        x = x.permute(0, 2, 3, 1)\n",
    "        b, h, w, f = x.shape\n",
    "        x = x.view(b, h*w, f)\n",
    "        \n",
    "        closest_graph = get_closest_diff(x, self.k)\n",
    "        agg_weights = self.diff_fc(closest_graph) # look closer\n",
    "        agg_self = self.w_self(x)\n",
    "                \n",
    "        x_new = torch.mean(agg_weights, dim=-2) + agg_self + self.bias\n",
    "\n",
    "        return x_new.view(b, h, w, x_new.shape[-1]).permute(0, 3, 1, 2)"
   ]
  },
  {
   "cell_type": "code",
   "execution_count": 13,
   "metadata": {},
   "outputs": [],
   "source": [
    "class GraphConv(nn.Module):\n",
    "    def __init__(self, k, input_channels, out_channels, search_area=None):\n",
    "        super().__init__()\n",
    "        self.conv1 = nn.Conv2d(input_channels, out_channels, 1)\n",
    "        self.conv2 = nn.Conv2d(input_channels, out_channels, 3, padding=1)\n",
    "        self.NLA = NonLocalAggregation(k, input_channels, out_channels)\n",
    "        \n",
    "    def forward(self, x):\n",
    "        return torch.mean(torch.stack([self.conv1(x),\n",
    "                                       self.conv2(x),\n",
    "                                       self.NLA(x)]), dim=0)"
   ]
  },
  {
   "cell_type": "code",
   "execution_count": 14,
   "metadata": {},
   "outputs": [],
   "source": [
    "class PreProcessBlock(nn.Module):\n",
    "    def __init__(self, k, kernel_size, input_channels, out_channels):\n",
    "        super().__init__()\n",
    "        self.conv = nn.Conv2d(input_channels, out_channels, kernel_size,\n",
    "                              padding=(kernel_size//2, kernel_size//2))\n",
    "        self.activ = nn.LeakyReLU(0.05)\n",
    "        self.bn = nn.BatchNorm2d(out_channels)\n",
    "        \n",
    "        self.GC = GraphConv(k, out_channels, out_channels) # out_channels -> out_channels\n",
    "        \n",
    "    def forward(self, x):\n",
    "        x = self.activ(self.conv(x))\n",
    "        x = self.GC(x)\n",
    "        x = self.activ(self.bn(x))\n",
    "        return x"
   ]
  },
  {
   "cell_type": "code",
   "execution_count": 15,
   "metadata": {},
   "outputs": [],
   "source": [
    "class Residual(nn.Module):\n",
    "    def __init__(self, k, input_channels, out_channels):\n",
    "        super().__init__()\n",
    "        self.pipeline = nn.Sequential(\n",
    "            GraphConv(k, input_channels, input_channels),\n",
    "            nn.BatchNorm2d(input_channels),\n",
    "            nn.LeakyReLU(0.05),\n",
    "            \n",
    "            GraphConv(k, input_channels, out_channels),\n",
    "            nn.BatchNorm2d(out_channels),\n",
    "            nn.LeakyReLU(0.05),\n",
    "            \n",
    "            GraphConv(k, out_channels, out_channels),\n",
    "            nn.BatchNorm2d(out_channels),\n",
    "            nn.LeakyReLU(0.05),\n",
    "        )\n",
    "        \n",
    "    def forward(self, x):\n",
    "        return self.pipeline(x)"
   ]
  },
  {
   "cell_type": "code",
   "execution_count": 16,
   "metadata": {},
   "outputs": [],
   "source": [
    "loss_mse = nn.MSELoss()\n",
    "\n",
    "class DNGNN(nn.Module):\n",
    "    def __init__(self, k, input_channels, hidden_channels):\n",
    "        super().__init__()\n",
    "        self.preprocessing_blocks = nn.ModuleList([\n",
    "            PreProcessBlock(k, 3, input_channels, hidden_channels),\n",
    "            PreProcessBlock(k, 5, input_channels, hidden_channels),\n",
    "            PreProcessBlock(k, 7, input_channels, hidden_channels),\n",
    "        ])\n",
    "        self.residual_1 = Residual(k, hidden_channels*3, hidden_channels)\n",
    "        self.residual_2 = Residual(k, hidden_channels, hidden_channels)\n",
    "        \n",
    "        self.GC = GraphConv(k, hidden_channels, input_channels)\n",
    "        self.downsample = nn.Sequential(\n",
    "            nn.Conv2d(hidden_channels*3, hidden_channels, 1),\n",
    "            nn.BatchNorm2d(hidden_channels),\n",
    "            nn.LeakyReLU(0.05),\n",
    "            nn.Conv2d(hidden_channels, hidden_channels, 1),\n",
    "            nn.BatchNorm2d(hidden_channels),\n",
    "            nn.LeakyReLU(0.05),\n",
    "        )\n",
    "        \n",
    "    def fit_image(self, image):\n",
    "        processed_image = torch.cat([block(image) for block in self.preprocessing_blocks], dim=1)\n",
    "        residual_1 = self.residual_1(processed_image)\n",
    "        result_1 = residual_1 + self.downsample(processed_image)\n",
    "        residual_2 = self.residual_2(result_1)\n",
    "        result = residual_2 + result_1\n",
    "        return [processed_image, residual_1, result, self.GC(result)]\n",
    "    \n",
    "    def forward(self, clear_image, noised_image):\n",
    "        processed_image, residual_1, residual_2, answer = self.fit_image(clear_image)\n",
    "        n_processed_image, n_residual_1, n_residual_2, n_answer = self.fit_image(noised_image)\n",
    "        perceptual_loss = loss_mse(processed_image, n_processed_image) + \\\n",
    "            loss_mse(residual_1, n_residual_1) + \\\n",
    "            loss_mse(residual_2, n_residual_2)\n",
    "        return image + n_answer, perceptual_loss\n",
    "        "
   ]
  },
  {
   "cell_type": "code",
   "execution_count": 17,
   "metadata": {},
   "outputs": [],
   "source": [
    "from IPython.display import clear_output"
   ]
  },
  {
   "cell_type": "code",
   "execution_count": 18,
   "metadata": {},
   "outputs": [
    {
     "data": {
      "text/plain": [
       "device(type='cuda', index=1)"
      ]
     },
     "execution_count": 18,
     "metadata": {},
     "output_type": "execute_result"
    }
   ],
   "source": [
    "gpu_num = get_freer_gpu()\n",
    "device = torch.device('cuda:{}'.format(gpu_num))\n",
    "device"
   ]
  },
  {
   "cell_type": "code",
   "execution_count": 20,
   "metadata": {},
   "outputs": [],
   "source": [
    "model = DNGNN(8, 1, 16).cuda(device)\n",
    "optim = torch.optim.Adam(model.parameters())"
   ]
  },
  {
   "cell_type": "code",
   "execution_count": null,
   "metadata": {},
   "outputs": [],
   "source": [
    "def compute_psnr(image, noised):\n",
    "    return 10 * np.log10(1/loss_mse(image, noised).item())"
   ]
  },
  {
   "cell_type": "code",
   "execution_count": 21,
   "metadata": {},
   "outputs": [],
   "source": [
    "loss_mse = nn.MSELoss()\n",
    "losses = []"
   ]
  },
  {
   "cell_type": "code",
   "execution_count": 22,
   "metadata": {},
   "outputs": [],
   "source": [
    "def plot_diff(real, noised, denoised):\n",
    "    plt.figure(figsize=(15, 15))\n",
    "    \n",
    "    for ind, im, noise, denoise in zip(range(1, 13, 3), real[:4], noised[:4], denoised[:4]):\n",
    "        plt.subplot(4, 3, ind)\n",
    "        plt.imshow(im)\n",
    "        plt.yticks([])\n",
    "        plt.xticks([])\n",
    "        plt.title('Clear image')\n",
    "        \n",
    "        plt.subplot(4, 3, ind+1)\n",
    "        plt.imshow(noise)\n",
    "        plt.yticks([])\n",
    "        plt.xticks([])\n",
    "        plt.title('Noised image')\n",
    "        \n",
    "        plt.subplot(4, 3, ind+2)\n",
    "        plt.imshow(denoise)\n",
    "        plt.yticks([])\n",
    "        plt.xticks([])\n",
    "        plt.title('Denoised image')\n",
    "\n",
    "\n",
    "    plt.show()"
   ]
  },
  {
   "cell_type": "code",
   "execution_count": 24,
   "metadata": {
    "scrolled": true
   },
   "outputs": [
    {
     "data": {
      "image/png": "[encoded data removed]",
      "text/plain": [
       "<Figure size 1080x1080 with 12 Axes>"
      ]
     },
     "metadata": {},
     "output_type": "display_data"
    },
    {
     "name": "stderr",
     "output_type": "stream",
     "text": [
      "\n",
      " 77%|███████▋  | 14501/18750 [6:22:49<3:36:02,  3.05s/it]\u001b[A\n",
      " 77%|███████▋  | 14502/18750 [6:22:50<2:36:24,  2.21s/it]\u001b[A\n",
      " 77%|███████▋  | 14503/18750 [6:22:50<1:57:39,  1.66s/it]\u001b[A\n",
      " 77%|███████▋  | 14504/18750 [6:22:50<1:30:05,  1.27s/it]\u001b[A\n",
      " 77%|███████▋  | 14505/18750 [6:22:51<1:07:24,  1.05it/s]\u001b[A"
     ]
    },
    {
     "ename": "KeyboardInterrupt",
     "evalue": "",
     "output_type": "error",
     "traceback": [
      "\u001b[0;31m---------------------------------------------------------------------------\u001b[0m",
      "\u001b[0;31mKeyboardInterrupt\u001b[0m                         Traceback (most recent call last)",
      "\u001b[0;32m<ipython-input-24-edd2cca58446>\u001b[0m in \u001b[0;36m<module>\u001b[0;34m\u001b[0m\n\u001b[0;32m----> 1\u001b[0;31m \u001b[0;32mfor\u001b[0m \u001b[0mind\u001b[0m\u001b[0;34m,\u001b[0m \u001b[0;34m(\u001b[0m\u001b[0mimage\u001b[0m\u001b[0;34m,\u001b[0m \u001b[0mnoise_image\u001b[0m\u001b[0;34m)\u001b[0m \u001b[0;32min\u001b[0m \u001b[0menumerate\u001b[0m\u001b[0;34m(\u001b[0m\u001b[0mtqdm\u001b[0m\u001b[0;34m.\u001b[0m\u001b[0mtqdm\u001b[0m\u001b[0;34m(\u001b[0m\u001b[0mtrain_dataloader\u001b[0m\u001b[0;34m)\u001b[0m\u001b[0;34m)\u001b[0m\u001b[0;34m:\u001b[0m\u001b[0;34m\u001b[0m\u001b[0m\n\u001b[0m\u001b[1;32m      2\u001b[0m     \u001b[0moptim\u001b[0m\u001b[0;34m.\u001b[0m\u001b[0mzero_grad\u001b[0m\u001b[0;34m(\u001b[0m\u001b[0;34m)\u001b[0m\u001b[0;34m\u001b[0m\u001b[0m\n\u001b[1;32m      3\u001b[0m     \u001b[0mimage\u001b[0m\u001b[0;34m,\u001b[0m \u001b[0mnoise_image\u001b[0m \u001b[0;34m=\u001b[0m \u001b[0mimage\u001b[0m\u001b[0;34m.\u001b[0m\u001b[0mcuda\u001b[0m\u001b[0;34m(\u001b[0m\u001b[0mdevice\u001b[0m\u001b[0;34m)\u001b[0m\u001b[0;34m,\u001b[0m \u001b[0mnoise_image\u001b[0m\u001b[0;34m.\u001b[0m\u001b[0mcuda\u001b[0m\u001b[0;34m(\u001b[0m\u001b[0mdevice\u001b[0m\u001b[0;34m)\u001b[0m\u001b[0;34m\u001b[0m\u001b[0m\n\u001b[1;32m      4\u001b[0m     \u001b[0mdenoise_image\u001b[0m\u001b[0;34m,\u001b[0m \u001b[0mperceptual_loss\u001b[0m \u001b[0;34m=\u001b[0m \u001b[0mmodel\u001b[0m\u001b[0;34m(\u001b[0m\u001b[0mimage\u001b[0m\u001b[0;34m,\u001b[0m \u001b[0mnoise_image\u001b[0m\u001b[0;34m)\u001b[0m\u001b[0;34m\u001b[0m\u001b[0m\n\u001b[1;32m      5\u001b[0m     \u001b[0mloss\u001b[0m \u001b[0;34m=\u001b[0m \u001b[0mloss_mse\u001b[0m\u001b[0;34m(\u001b[0m\u001b[0mimage\u001b[0m\u001b[0;34m,\u001b[0m \u001b[0mdenoise_image\u001b[0m\u001b[0;34m)\u001b[0m \u001b[0;34m+\u001b[0m \u001b[0mperceptual_loss\u001b[0m\u001b[0;34m\u001b[0m\u001b[0m\n",
      "\u001b[0;32m~/.local/lib/python3.6/site-packages/tqdm/_tqdm.py\u001b[0m in \u001b[0;36m__iter__\u001b[0;34m(self)\u001b[0m\n\u001b[1;32m   1015\u001b[0m                 \"\"\"), fp_write=getattr(self.fp, 'write', sys.stderr.write))\n\u001b[1;32m   1016\u001b[0m \u001b[0;34m\u001b[0m\u001b[0m\n\u001b[0;32m-> 1017\u001b[0;31m             \u001b[0;32mfor\u001b[0m \u001b[0mobj\u001b[0m \u001b[0;32min\u001b[0m \u001b[0miterable\u001b[0m\u001b[0;34m:\u001b[0m\u001b[0;34m\u001b[0m\u001b[0m\n\u001b[0m\u001b[1;32m   1018\u001b[0m                 \u001b[0;32myield\u001b[0m \u001b[0mobj\u001b[0m\u001b[0;34m\u001b[0m\u001b[0m\n\u001b[1;32m   1019\u001b[0m                 \u001b[0;31m# Update and possibly print the progressbar.\u001b[0m\u001b[0;34m\u001b[0m\u001b[0;34m\u001b[0m\u001b[0m\n",
      "\u001b[0;32m~/.local/lib/python3.6/site-packages/torch/utils/data/dataloader.py\u001b[0m in \u001b[0;36m__next__\u001b[0;34m(self)\u001b[0m\n\u001b[1;32m    574\u001b[0m         \u001b[0;32mwhile\u001b[0m \u001b[0;32mTrue\u001b[0m\u001b[0;34m:\u001b[0m\u001b[0;34m\u001b[0m\u001b[0m\n\u001b[1;32m    575\u001b[0m             \u001b[0;32massert\u001b[0m \u001b[0;34m(\u001b[0m\u001b[0;32mnot\u001b[0m \u001b[0mself\u001b[0m\u001b[0;34m.\u001b[0m\u001b[0mshutdown\u001b[0m \u001b[0;32mand\u001b[0m \u001b[0mself\u001b[0m\u001b[0;34m.\u001b[0m\u001b[0mbatches_outstanding\u001b[0m \u001b[0;34m>\u001b[0m \u001b[0;36m0\u001b[0m\u001b[0;34m)\u001b[0m\u001b[0;34m\u001b[0m\u001b[0m\n\u001b[0;32m--> 576\u001b[0;31m             \u001b[0midx\u001b[0m\u001b[0;34m,\u001b[0m \u001b[0mbatch\u001b[0m \u001b[0;34m=\u001b[0m \u001b[0mself\u001b[0m\u001b[0;34m.\u001b[0m\u001b[0m_get_batch\u001b[0m\u001b[0;34m(\u001b[0m\u001b[0;34m)\u001b[0m\u001b[0;34m\u001b[0m\u001b[0m\n\u001b[0m\u001b[1;32m    577\u001b[0m             \u001b[0mself\u001b[0m\u001b[0;34m.\u001b[0m\u001b[0mbatches_outstanding\u001b[0m \u001b[0;34m-=\u001b[0m \u001b[0;36m1\u001b[0m\u001b[0;34m\u001b[0m\u001b[0m\n\u001b[1;32m    578\u001b[0m             \u001b[0;32mif\u001b[0m \u001b[0midx\u001b[0m \u001b[0;34m!=\u001b[0m \u001b[0mself\u001b[0m\u001b[0;34m.\u001b[0m\u001b[0mrcvd_idx\u001b[0m\u001b[0;34m:\u001b[0m\u001b[0;34m\u001b[0m\u001b[0m\n",
      "\u001b[0;32m~/.local/lib/python3.6/site-packages/torch/utils/data/dataloader.py\u001b[0m in \u001b[0;36m_get_batch\u001b[0;34m(self)\u001b[0m\n\u001b[1;32m    551\u001b[0m         \u001b[0;32melse\u001b[0m\u001b[0;34m:\u001b[0m\u001b[0;34m\u001b[0m\u001b[0m\n\u001b[1;32m    552\u001b[0m             \u001b[0;32mwhile\u001b[0m \u001b[0;32mTrue\u001b[0m\u001b[0;34m:\u001b[0m\u001b[0;34m\u001b[0m\u001b[0m\n\u001b[0;32m--> 553\u001b[0;31m                 \u001b[0msuccess\u001b[0m\u001b[0;34m,\u001b[0m \u001b[0mdata\u001b[0m \u001b[0;34m=\u001b[0m \u001b[0mself\u001b[0m\u001b[0;34m.\u001b[0m\u001b[0m_try_get_batch\u001b[0m\u001b[0;34m(\u001b[0m\u001b[0;34m)\u001b[0m\u001b[0;34m\u001b[0m\u001b[0m\n\u001b[0m\u001b[1;32m    554\u001b[0m                 \u001b[0;32mif\u001b[0m \u001b[0msuccess\u001b[0m\u001b[0;34m:\u001b[0m\u001b[0;34m\u001b[0m\u001b[0m\n\u001b[1;32m    555\u001b[0m                     \u001b[0;32mreturn\u001b[0m \u001b[0mdata\u001b[0m\u001b[0;34m\u001b[0m\u001b[0m\n",
      "\u001b[0;32m~/.local/lib/python3.6/site-packages/torch/utils/data/dataloader.py\u001b[0m in \u001b[0;36m_try_get_batch\u001b[0;34m(self, timeout)\u001b[0m\n\u001b[1;32m    509\u001b[0m         \u001b[0;31m#   (bool: whether successfully get data, any: data if successful else None)\u001b[0m\u001b[0;34m\u001b[0m\u001b[0;34m\u001b[0m\u001b[0m\n\u001b[1;32m    510\u001b[0m         \u001b[0;32mtry\u001b[0m\u001b[0;34m:\u001b[0m\u001b[0;34m\u001b[0m\u001b[0m\n\u001b[0;32m--> 511\u001b[0;31m             \u001b[0mdata\u001b[0m \u001b[0;34m=\u001b[0m \u001b[0mself\u001b[0m\u001b[0;34m.\u001b[0m\u001b[0mdata_queue\u001b[0m\u001b[0;34m.\u001b[0m\u001b[0mget\u001b[0m\u001b[0;34m(\u001b[0m\u001b[0mtimeout\u001b[0m\u001b[0;34m=\u001b[0m\u001b[0mtimeout\u001b[0m\u001b[0;34m)\u001b[0m\u001b[0;34m\u001b[0m\u001b[0m\n\u001b[0m\u001b[1;32m    512\u001b[0m             \u001b[0;32mreturn\u001b[0m \u001b[0;34m(\u001b[0m\u001b[0;32mTrue\u001b[0m\u001b[0;34m,\u001b[0m \u001b[0mdata\u001b[0m\u001b[0;34m)\u001b[0m\u001b[0;34m\u001b[0m\u001b[0m\n\u001b[1;32m    513\u001b[0m         \u001b[0;32mexcept\u001b[0m \u001b[0mException\u001b[0m \u001b[0;32mas\u001b[0m \u001b[0me\u001b[0m\u001b[0;34m:\u001b[0m\u001b[0;34m\u001b[0m\u001b[0m\n",
      "\u001b[0;32m/opt/rh/rh-python36/root/usr/lib64/python3.6/multiprocessing/queues.py\u001b[0m in \u001b[0;36mget\u001b[0;34m(self, block, timeout)\u001b[0m\n\u001b[1;32m    102\u001b[0m                 \u001b[0;32mif\u001b[0m \u001b[0mblock\u001b[0m\u001b[0;34m:\u001b[0m\u001b[0;34m\u001b[0m\u001b[0m\n\u001b[1;32m    103\u001b[0m                     \u001b[0mtimeout\u001b[0m \u001b[0;34m=\u001b[0m \u001b[0mdeadline\u001b[0m \u001b[0;34m-\u001b[0m \u001b[0mtime\u001b[0m\u001b[0;34m.\u001b[0m\u001b[0mtime\u001b[0m\u001b[0;34m(\u001b[0m\u001b[0;34m)\u001b[0m\u001b[0;34m\u001b[0m\u001b[0m\n\u001b[0;32m--> 104\u001b[0;31m                     \u001b[0;32mif\u001b[0m \u001b[0;32mnot\u001b[0m \u001b[0mself\u001b[0m\u001b[0;34m.\u001b[0m\u001b[0m_poll\u001b[0m\u001b[0;34m(\u001b[0m\u001b[0mtimeout\u001b[0m\u001b[0;34m)\u001b[0m\u001b[0;34m:\u001b[0m\u001b[0;34m\u001b[0m\u001b[0m\n\u001b[0m\u001b[1;32m    105\u001b[0m                         \u001b[0;32mraise\u001b[0m \u001b[0mEmpty\u001b[0m\u001b[0;34m\u001b[0m\u001b[0m\n\u001b[1;32m    106\u001b[0m                 \u001b[0;32melif\u001b[0m \u001b[0;32mnot\u001b[0m \u001b[0mself\u001b[0m\u001b[0;34m.\u001b[0m\u001b[0m_poll\u001b[0m\u001b[0;34m(\u001b[0m\u001b[0;34m)\u001b[0m\u001b[0;34m:\u001b[0m\u001b[0;34m\u001b[0m\u001b[0m\n",
      "\u001b[0;32m/opt/rh/rh-python36/root/usr/lib64/python3.6/multiprocessing/connection.py\u001b[0m in \u001b[0;36mpoll\u001b[0;34m(self, timeout)\u001b[0m\n\u001b[1;32m    255\u001b[0m         \u001b[0mself\u001b[0m\u001b[0;34m.\u001b[0m\u001b[0m_check_closed\u001b[0m\u001b[0;34m(\u001b[0m\u001b[0;34m)\u001b[0m\u001b[0;34m\u001b[0m\u001b[0m\n\u001b[1;32m    256\u001b[0m         \u001b[0mself\u001b[0m\u001b[0;34m.\u001b[0m\u001b[0m_check_readable\u001b[0m\u001b[0;34m(\u001b[0m\u001b[0;34m)\u001b[0m\u001b[0;34m\u001b[0m\u001b[0m\n\u001b[0;32m--> 257\u001b[0;31m         \u001b[0;32mreturn\u001b[0m \u001b[0mself\u001b[0m\u001b[0;34m.\u001b[0m\u001b[0m_poll\u001b[0m\u001b[0;34m(\u001b[0m\u001b[0mtimeout\u001b[0m\u001b[0;34m)\u001b[0m\u001b[0;34m\u001b[0m\u001b[0m\n\u001b[0m\u001b[1;32m    258\u001b[0m \u001b[0;34m\u001b[0m\u001b[0m\n\u001b[1;32m    259\u001b[0m     \u001b[0;32mdef\u001b[0m \u001b[0m__enter__\u001b[0m\u001b[0;34m(\u001b[0m\u001b[0mself\u001b[0m\u001b[0;34m)\u001b[0m\u001b[0;34m:\u001b[0m\u001b[0;34m\u001b[0m\u001b[0m\n",
      "\u001b[0;32m/opt/rh/rh-python36/root/usr/lib64/python3.6/multiprocessing/connection.py\u001b[0m in \u001b[0;36m_poll\u001b[0;34m(self, timeout)\u001b[0m\n\u001b[1;32m    412\u001b[0m \u001b[0;34m\u001b[0m\u001b[0m\n\u001b[1;32m    413\u001b[0m     \u001b[0;32mdef\u001b[0m \u001b[0m_poll\u001b[0m\u001b[0;34m(\u001b[0m\u001b[0mself\u001b[0m\u001b[0;34m,\u001b[0m \u001b[0mtimeout\u001b[0m\u001b[0;34m)\u001b[0m\u001b[0;34m:\u001b[0m\u001b[0;34m\u001b[0m\u001b[0m\n\u001b[0;32m--> 414\u001b[0;31m         \u001b[0mr\u001b[0m \u001b[0;34m=\u001b[0m \u001b[0mwait\u001b[0m\u001b[0;34m(\u001b[0m\u001b[0;34m[\u001b[0m\u001b[0mself\u001b[0m\u001b[0;34m]\u001b[0m\u001b[0;34m,\u001b[0m \u001b[0mtimeout\u001b[0m\u001b[0;34m)\u001b[0m\u001b[0;34m\u001b[0m\u001b[0m\n\u001b[0m\u001b[1;32m    415\u001b[0m         \u001b[0;32mreturn\u001b[0m \u001b[0mbool\u001b[0m\u001b[0;34m(\u001b[0m\u001b[0mr\u001b[0m\u001b[0;34m)\u001b[0m\u001b[0;34m\u001b[0m\u001b[0m\n\u001b[1;32m    416\u001b[0m \u001b[0;34m\u001b[0m\u001b[0m\n",
      "\u001b[0;32m/opt/rh/rh-python36/root/usr/lib64/python3.6/multiprocessing/connection.py\u001b[0m in \u001b[0;36mwait\u001b[0;34m(object_list, timeout)\u001b[0m\n\u001b[1;32m    909\u001b[0m \u001b[0;34m\u001b[0m\u001b[0m\n\u001b[1;32m    910\u001b[0m             \u001b[0;32mwhile\u001b[0m \u001b[0;32mTrue\u001b[0m\u001b[0;34m:\u001b[0m\u001b[0;34m\u001b[0m\u001b[0m\n\u001b[0;32m--> 911\u001b[0;31m                 \u001b[0mready\u001b[0m \u001b[0;34m=\u001b[0m \u001b[0mselector\u001b[0m\u001b[0;34m.\u001b[0m\u001b[0mselect\u001b[0m\u001b[0;34m(\u001b[0m\u001b[0mtimeout\u001b[0m\u001b[0;34m)\u001b[0m\u001b[0;34m\u001b[0m\u001b[0m\n\u001b[0m\u001b[1;32m    912\u001b[0m                 \u001b[0;32mif\u001b[0m \u001b[0mready\u001b[0m\u001b[0;34m:\u001b[0m\u001b[0;34m\u001b[0m\u001b[0m\n\u001b[1;32m    913\u001b[0m                     \u001b[0;32mreturn\u001b[0m \u001b[0;34m[\u001b[0m\u001b[0mkey\u001b[0m\u001b[0;34m.\u001b[0m\u001b[0mfileobj\u001b[0m \u001b[0;32mfor\u001b[0m \u001b[0;34m(\u001b[0m\u001b[0mkey\u001b[0m\u001b[0;34m,\u001b[0m \u001b[0mevents\u001b[0m\u001b[0;34m)\u001b[0m \u001b[0;32min\u001b[0m \u001b[0mready\u001b[0m\u001b[0;34m]\u001b[0m\u001b[0;34m\u001b[0m\u001b[0m\n",
      "\u001b[0;32m/opt/rh/rh-python36/root/usr/lib64/python3.6/selectors.py\u001b[0m in \u001b[0;36mselect\u001b[0;34m(self, timeout)\u001b[0m\n\u001b[1;32m    374\u001b[0m             \u001b[0mready\u001b[0m \u001b[0;34m=\u001b[0m \u001b[0;34m[\u001b[0m\u001b[0;34m]\u001b[0m\u001b[0;34m\u001b[0m\u001b[0m\n\u001b[1;32m    375\u001b[0m             \u001b[0;32mtry\u001b[0m\u001b[0;34m:\u001b[0m\u001b[0;34m\u001b[0m\u001b[0m\n\u001b[0;32m--> 376\u001b[0;31m                 \u001b[0mfd_event_list\u001b[0m \u001b[0;34m=\u001b[0m \u001b[0mself\u001b[0m\u001b[0;34m.\u001b[0m\u001b[0m_poll\u001b[0m\u001b[0;34m.\u001b[0m\u001b[0mpoll\u001b[0m\u001b[0;34m(\u001b[0m\u001b[0mtimeout\u001b[0m\u001b[0;34m)\u001b[0m\u001b[0;34m\u001b[0m\u001b[0m\n\u001b[0m\u001b[1;32m    377\u001b[0m             \u001b[0;32mexcept\u001b[0m \u001b[0mInterruptedError\u001b[0m\u001b[0;34m:\u001b[0m\u001b[0;34m\u001b[0m\u001b[0m\n\u001b[1;32m    378\u001b[0m                 \u001b[0;32mreturn\u001b[0m \u001b[0mready\u001b[0m\u001b[0;34m\u001b[0m\u001b[0m\n",
      "\u001b[0;31mKeyboardInterrupt\u001b[0m: "
     ]
    }
   ],
   "source": [
    "for ind, (image, noise_image) in enumerate(tqdm.tqdm(train_dataloader)):\n",
    "    optim.zero_grad()\n",
    "    image, noise_image = image.cuda(device), noise_image.cuda(device)\n",
    "    denoise_image, perceptual_loss = model(image, noise_image)\n",
    "    loss = loss_mse(image, denoise_image) + perceptual_loss\n",
    "    loss.backward()\n",
    "    optim.step()\n",
    "    losses.append(loss.item())\n",
    "    if ind % 10 == 0:\n",
    "        print(ind, 'MSE: ', loss.item())\n",
    "    if ind % 100 == 0:\n",
    "        clear_output()\n",
    "        plot_diff(image.cpu().view(-1, 32, 32).data.numpy(),\n",
    "                  noise_image.cpu().view(-1, 32, 32).data.numpy(),\n",
    "                  denoise_image.cpu().view(-1, 32, 32).data.numpy())"
   ]
  },
  {
   "cell_type": "code",
   "execution_count": 27,
   "metadata": {},
   "outputs": [],
   "source": [
    "!mkdir SavedModels"
   ]
  },
  {
   "cell_type": "code",
   "execution_count": 29,
   "metadata": {},
   "outputs": [],
   "source": [
    "torch.save(model, 'SavedModels/firstGCNN.model')\n",
    "torch.save(model.state_dict(), 'SavedModels/firstGCNN.state_dict')\n"
   ]
  },
  {
   "cell_type": "code",
   "execution_count": 50,
   "metadata": {},
   "outputs": [],
   "source": [
    "# PSNR\n",
    "# TEST VALIDATION\n",
    "# PERCEPTUAL LOSS\n",
    "# SMART LOSSES\n",
    "# PATCHES FOR BIG IMAGES"
   ]
  },
  {
   "cell_type": "code",
   "execution_count": null,
   "metadata": {},
   "outputs": [],
   "source": []
  }
 ],
 "metadata": {
  "kernelspec": {
   "display_name": "Python 3",
   "language": "python",
   "name": "python3"
  },
  "language_info": {
   "codemirror_mode": {
    "name": "ipython",
    "version": 3
   },
   "file_extension": ".py",
   "mimetype": "text/x-python",
   "name": "python",
   "nbconvert_exporter": "python",
   "pygments_lexer": "ipython3",
   "version": "3.6.3"
  }
 },
 "nbformat": 4,
 "nbformat_minor": 2
}
