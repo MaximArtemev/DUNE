{
 "cells": [
  {
   "cell_type": "code",
   "execution_count": 27,
   "metadata": {},
   "outputs": [],
   "source": [
    "# !pip3 install --user uproot\n",
    "\n",
    "import uproot\n",
    "import numpy as np\n",
    "import pandas as pd\n",
    "import matplotlib.pyplot as plt"
   ]
  },
  {
   "cell_type": "code",
   "execution_count": 2,
   "metadata": {},
   "outputs": [],
   "source": [
    "mc_data = uproot.open(\"../Data/prodgenie_anu_dune10kt_1x2x6_10409817_0_20180801T184038_g4_detsim-30338ce7-16cc-41da-a32c-915952f70670.root\")\n"
   ]
  },
  {
   "cell_type": "code",
   "execution_count": 13,
   "metadata": {},
   "outputs": [
    {
     "data": {
      "text/plain": [
       "[b'RootFileDB;1',\n",
       " b'Events;1',\n",
       " b'EventMetaData;1',\n",
       " b'SubRuns;1',\n",
       " b'SubRunMetaData;1',\n",
       " b'Runs;1',\n",
       " b'RunMetaData;1',\n",
       " b'ResultsTree;1',\n",
       " b'ResultsMetaData;1',\n",
       " b'MetaData;1',\n",
       " b'FileIndex;1',\n",
       " b'Parentage;1',\n",
       " b'EventHistory;1']"
      ]
     },
     "execution_count": 13,
     "metadata": {},
     "output_type": "execute_result"
    }
   ],
   "source": [
    "mc_data.keys()"
   ]
  },
  {
   "cell_type": "code",
   "execution_count": 40,
   "metadata": {},
   "outputs": [
    {
     "data": {
      "text/plain": [
       "[b'EventAuxiliary',\n",
       " b'simb::MCParticlesimb::MCTruthsim::GeneratedParticleInfoart::Assns_largeant__G4.',\n",
       " b'art::TriggerResults_TriggerResults__G4.',\n",
       " b'art::RNGsnapshots_rns__G4.',\n",
       " b'sim::AuxDetSimChannels_largeant__G4.',\n",
       " b'sim::OpDetBacktrackerRecords_largeant__G4.',\n",
       " b'sim::SimChannels_largeant__G4.',\n",
       " b'sim::SimPhotonsLites_largeant__G4.',\n",
       " b'simb::MCParticles_largeant__G4.',\n",
       " b'simb::GTruthsimb::MCTruthvoidart::Assns_generator__GenieGen.',\n",
       " b'simb::MCFluxsimb::MCTruthvoidart::Assns_generator__GenieGen.',\n",
       " b'art::TriggerResults_TriggerResults__GenieGen.',\n",
       " b'art::RNGsnapshots_rns__GenieGen.',\n",
       " b'sim::BeamGateInfos_generator__GenieGen.',\n",
       " b'simb::GTruths_generator__GenieGen.',\n",
       " b'simb::MCFluxs_generator__GenieGen.',\n",
       " b'simb::MCTruths_generator__GenieGen.',\n",
       " b'art::TriggerResults_TriggerResults__NoZSDetsim.',\n",
       " b'art::RNGsnapshots_rns__NoZSDetsim.',\n",
       " b'raw::OpDetWaveforms_opdigi__NoZSDetsim.',\n",
       " b'raw::RawDigits_daq__NoZSDetsim.']"
      ]
     },
     "execution_count": 40,
     "metadata": {},
     "output_type": "execute_result"
    }
   ],
   "source": [
    "mc_data['Events;1'].keys()"
   ]
  },
  {
   "cell_type": "code",
   "execution_count": 14,
   "metadata": {},
   "outputs": [],
   "source": [
    "adcs = mc_data['Events;1']['raw::RawDigits_daq__NoZSDetsim.'] \\\n",
    "    ['raw::RawDigits_daq__NoZSDetsim.obj'] \\\n",
    "    ['raw::RawDigits_daq__NoZSDetsim.obj.fADC'].array()"
   ]
  },
  {
   "cell_type": "code",
   "execution_count": 28,
   "metadata": {},
   "outputs": [],
   "source": [
    "adcs = np.row_stack(adcs)"
   ]
  },
  {
   "cell_type": "code",
   "execution_count": 30,
   "metadata": {},
   "outputs": [
    {
     "data": {
      "text/plain": [
       "(100, 138055678)"
      ]
     },
     "execution_count": 30,
     "metadata": {},
     "output_type": "execute_result"
    }
   ],
   "source": [
    "adcs.shape"
   ]
  },
  {
   "cell_type": "code",
   "execution_count": 42,
   "metadata": {},
   "outputs": [
    {
     "data": {
      "text/plain": [
       "2"
      ]
     },
     "execution_count": 42,
     "metadata": {},
     "output_type": "execute_result"
    }
   ],
   "source": [
    "len(adcs.nonzero())"
   ]
  },
  {
   "cell_type": "code",
   "execution_count": 3,
   "metadata": {},
   "outputs": [
    {
     "data": {
      "text/plain": [
       "111"
      ]
     },
     "execution_count": 3,
     "metadata": {},
     "output_type": "execute_result"
    }
   ],
   "source": [
    "111\n"
   ]
  },
  {
   "cell_type": "code",
   "execution_count": null,
   "metadata": {},
   "outputs": [],
   "source": []
  }
 ],
 "metadata": {
  "kernelspec": {
   "display_name": "Python 3",
   "language": "python",
   "name": "python3"
  },
  "language_info": {
   "codemirror_mode": {
    "name": "ipython",
    "version": 3
   },
   "file_extension": ".py",
   "mimetype": "text/x-python",
   "name": "python",
   "nbconvert_exporter": "python",
   "pygments_lexer": "ipython3",
   "version": "3.6.3"
  }
 },
 "nbformat": 4,
 "nbformat_minor": 2
}
