{
 "cells": [
  {
   "cell_type": "code",
   "execution_count": 1,
   "metadata": {},
   "outputs": [],
   "source": [
    "# !pip3 install --upgrade torch --user\n",
    "# !pip3 install torchvision --user\n",
    "\n",
    "import numpy as np\n",
    "import pandas as pd\n",
    "import matplotlib.pyplot as plt\n",
    "\n",
    "import os\n",
    "import pickle\n",
    "import tqdm\n",
    "\n",
    "import torch\n",
    "import torch.nn.functional as F\n",
    "import torch.nn as nn\n",
    "\n",
    "\n",
    "from torchvision import datasets\n",
    "from torchvision import transforms\n",
    "\n",
    "from utils.model_utils import PatchLoader\n",
    "from utils.martemev_utils import compute_psnr, get_freer_gpu, normalize\n",
    "\n",
    "from time import time\n",
    "\n",
    "from collections import defaultdict\n"
   ]
  },
  {
   "cell_type": "code",
   "execution_count": 2,
   "metadata": {},
   "outputs": [
    {
     "data": {
      "text/plain": [
       "device(type='cuda', index=2)"
      ]
     },
     "execution_count": 2,
     "metadata": {},
     "output_type": "execute_result"
    }
   ],
   "source": [
    "GPU_NUM = 2\n",
    "\n",
    "K_CLOSEST = 8\n",
    "HIDDEN_SIZE = 32\n",
    "PATCH_SIZE = (33, 33)\n",
    "\n",
    "gpu_num = get_freer_gpu()\n",
    "device = torch.device('cuda:{}'.format(GPU_NUM))\n",
    "device"
   ]
  },
  {
   "cell_type": "code",
   "execution_count": 3,
   "metadata": {},
   "outputs": [],
   "source": [
    "import utils.model_classes as classes"
   ]
  },
  {
   "cell_type": "code",
   "execution_count": 4,
   "metadata": {},
   "outputs": [],
   "source": [
    "names = ['CNN_full.33.valid', 'GraphCNN_full.33.valid',\n",
    "         'GraphCNN_Baseline.33.valid', \"GraphCNN_FastBaseline.33.valid\"]\n",
    "\n",
    "models = [func()(K_CLOSEST, 1, hsize, patch_size=PATCH_SIZE) for func, name, hsize in \\\n",
    "                 zip([classes.get_CNN, classes.get_GCNN, classes.get_GCNN_baseline, classes.get_GCNN_fast_baseline],\n",
    "                     names, [32, 32, 32, 16])]\n",
    "\n",
    "\n",
    "\n",
    "for name, model in zip(names, models):\n",
    "    model.load_state_dict(torch.load('./SavedModels/{}.state_dict'.format(name)))\n",
    "    model.eval()\n",
    "    model.cpu()"
   ]
  },
  {
   "cell_type": "code",
   "execution_count": null,
   "metadata": {},
   "outputs": [],
   "source": [
    "real_data_path = '../Data/dune_experimental_data/training_histograms_sim/'\n",
    "\n",
    "events = [i for i in os.listdir(real_data_path) if 'root' not in i]\n",
    "apas = defaultdict(list)\n",
    "\n",
    "for event in tqdm.tqdm_notebook(events):\n",
    "    for apa in [i for i in os.listdir(os.path.join(real_data_path, event)) if '.dat' in i]:\n",
    "        apas[event].append(np.loadtxt(os.path.join(real_data_path, event, apa), delimiter=','))"
   ]
  },
  {
   "cell_type": "code",
   "execution_count": null,
   "metadata": {},
   "outputs": [],
   "source": [
    "real_data = defaultdict(list)\n",
    "\n",
    "for event in tqdm.tqdm_notebook(events):\n",
    "    for apa in apas[event]:\n",
    "        real_data[event].append(normalize(torch.Tensor(apa)))"
   ]
  },
  {
   "cell_type": "code",
   "execution_count": null,
   "metadata": {},
   "outputs": [],
   "source": [
    "plt.figure(figsize=(35, 25))\n",
    "\n",
    "plt.imshow(real_data[events[0]][0])\n",
    "plt.show()"
   ]
  },
  {
   "cell_type": "code",
   "execution_count": null,
   "metadata": {},
   "outputs": [],
   "source": [
    "6000 - 6000%33"
   ]
  },
  {
   "cell_type": "code",
   "execution_count": null,
   "metadata": {},
   "outputs": [],
   "source": [
    "denoised_apas = defaultdict(list)\n",
    "\n",
    "model = models[-1]\n",
    "name = names[-1]\n",
    "\n",
    "times = []\n",
    "\n",
    "model.cuda(device)\n",
    "model.eval()\n",
    "\n",
    "for event in tqdm.tqdm_notebook(events, desc='events'):\n",
    "    for image in tqdm.tqdm_notebook(real_data[event], desc=name, leave=True):\n",
    "        h, w = image.shape\n",
    "        image = image[:h - h%33, :w - w%33]\n",
    "        start_time = time()\n",
    "        denoised_image = model.forward_image(image, device)\n",
    "        end_time = time() - start_time\n",
    "        denoised_image = denoised_image.cpu().data\n",
    "        denoised_apas[event].append(denoised_image)\n",
    "        times.append(end_time)\n",
    "model.cpu()\n",
    "print(\"Mean process time of {} = {}\".format(name, np.mean(times)))"
   ]
  },
  {
   "cell_type": "code",
   "execution_count": null,
   "metadata": {
    "scrolled": false
   },
   "outputs": [],
   "source": [
    "for event in tqdm.tqdm_notebook(events, desc='events'):\n",
    "    for ind, (image, d_image) in enumerate(zip(real_data[event], denoised_apas[event])):\n",
    "        h, w = image.shape\n",
    "        image = image[:h - h%33, :w - w%33]\n",
    "        plt.figure(figsize=(35, 15))\n",
    "        plt.subplot(2, 1, 1)\n",
    "        plt.imshow(image)\n",
    "        plt.title('noised event {}, apa {}'.format(event, ind))\n",
    "        plt.subplot(2, 1, 2)\n",
    "        plt.imshow(d_image)\n",
    "        plt.title('denoised event {}, apa {}'.format(event, ind))\n",
    "        plt.show()"
   ]
  },
  {
   "cell_type": "code",
   "execution_count": null,
   "metadata": {},
   "outputs": [],
   "source": []
  },
  {
   "cell_type": "code",
   "execution_count": null,
   "metadata": {},
   "outputs": [],
   "source": []
  },
  {
   "cell_type": "code",
   "execution_count": null,
   "metadata": {},
   "outputs": [],
   "source": []
  },
  {
   "cell_type": "code",
   "execution_count": null,
   "metadata": {},
   "outputs": [],
   "source": []
  },
  {
   "cell_type": "code",
   "execution_count": null,
   "metadata": {},
   "outputs": [],
   "source": [
    "val_images_clear =  torch.load('../Data/val/clear/normalized_data.tensor')\n",
    "val_images_noised =  torch.load('../Data/val/noised/normalized_data.tensor')"
   ]
  },
  {
   "cell_type": "code",
   "execution_count": null,
   "metadata": {},
   "outputs": [],
   "source": [
    "psnrs = defaultdict(list)\n",
    "mses = defaultdict(list)\n",
    "times = defaultdict(list)\n",
    "\n",
    "\n",
    "for name, model in zip(names, models):\n",
    "    model.cuda(device)\n",
    "    model.eval()\n",
    "    for clear_image, noised_image in zip(tqdm.tqdm_notebook(val_images_clear, desc=name), val_images_noised):\n",
    "        \n",
    "        start_time = time()\n",
    "        denoised_image = model.forward_image(noised_image, device)\n",
    "        end_time = time() - start_time\n",
    "        denoised_image = denoised_image.cpu().data\n",
    "        \n",
    "        mse = nn.MSELoss()(clear_image, denoised_image)\n",
    "        mses[name].append(mse)\n",
    "        psnr = compute_psnr(clear_image, denoised_image)\n",
    "        psnrs[name].append(psnr)\n",
    "        times[name].append(end_time)\n",
    "    model.cpu()\n",
    "    print(\"Mean MSE of {} = {}\".format(name, np.mean(mses[name])))\n",
    "    print(\"Mean PSNR of {} = {}\".format(name, np.mean(psnrs[name])))\n",
    "    print(\"Mean process time of {} = {}\".format(name, np.mean(times[name])))\n",
    "        "
   ]
  },
  {
   "cell_type": "code",
   "execution_count": null,
   "metadata": {},
   "outputs": [],
   "source": []
  },
  {
   "cell_type": "code",
   "execution_count": null,
   "metadata": {},
   "outputs": [],
   "source": []
  },
  {
   "cell_type": "code",
   "execution_count": null,
   "metadata": {},
   "outputs": [],
   "source": []
  },
  {
   "cell_type": "code",
   "execution_count": null,
   "metadata": {},
   "outputs": [],
   "source": []
  },
  {
   "cell_type": "code",
   "execution_count": null,
   "metadata": {},
   "outputs": [],
   "source": []
  }
 ],
 "metadata": {
  "kernelspec": {
   "display_name": "Python 3",
   "language": "python",
   "name": "python3"
  },
  "language_info": {
   "codemirror_mode": {
    "name": "ipython",
    "version": 3
   },
   "file_extension": ".py",
   "mimetype": "text/x-python",
   "name": "python",
   "nbconvert_exporter": "python",
   "pygments_lexer": "ipython3",
   "version": "3.6.3"
  }
 },
 "nbformat": 4,
 "nbformat_minor": 2
}
