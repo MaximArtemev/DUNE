{
 "cells": [
  {
   "cell_type": "code",
   "execution_count": 1,
   "metadata": {},
   "outputs": [],
   "source": [
    "# !pip3 install --upgrade torch --user\n",
    "# !pip3 install torchvision --user\n",
    "\n",
    "import numpy as np\n",
    "import pandas as pd\n",
    "import matplotlib.pyplot as plt\n",
    "\n",
    "import os\n",
    "import pickle\n",
    "import tqdm\n",
    "\n",
    "import torch\n",
    "import torch.nn.functional as F\n",
    "import torch.nn as nn\n",
    "\n",
    "from torch.nn.parameter import Parameter\n",
    "import math\n",
    "from torch.nn.modules.utils import _pair\n",
    "\n",
    "\n",
    "\n",
    "\n",
    "from torchvision import datasets\n",
    "from torchvision import transforms\n",
    "\n",
    "from utils.model_utils import PatchLoader, NonLocalAggregation\n",
    "from utils.martemev_utils import compute_psnr, get_freer_gpu, get_closest_diff\n",
    "\n",
    "from time import time\n",
    "\n",
    "# model[0].weight.grad"
   ]
  },
  {
   "cell_type": "code",
   "execution_count": 2,
   "metadata": {},
   "outputs": [],
   "source": [
    "BATCH_SIZE = 64\n",
    "NUM_WORKERS = 1\n",
    "\n",
    "GPU_NUM = 2\n",
    "\n",
    "K_CLOSEST = 8\n",
    "HIDDEN_SIZE = 66\n",
    "PATCH_SIZE = (33, 33)\n",
    "\n",
    "MODEL_NAME = 'GraphCNN.v0'"
   ]
  },
  {
   "cell_type": "code",
   "execution_count": 3,
   "metadata": {},
   "outputs": [],
   "source": [
    "def calculate_pad(shape1, shape2):\n",
    "    \"\"\"\n",
    "    x -> dim=-2\n",
    "    y -> dim=-1\n",
    "    \"\"\"\n",
    "    return_pad = [0, 0, 0, 0]\n",
    "    im_x, im_y = shape1\n",
    "    pad_x, pad_y = shape2\n",
    "    \n",
    "    if (pad_x - (im_x%pad_x))%2 == 0:\n",
    "        return_pad[2] = (pad_x - (im_x%pad_x))//2\n",
    "        return_pad[3] = (pad_x - (im_x%pad_x))//2\n",
    "    else:\n",
    "        return_pad[2] = (pad_x - (im_x%pad_x))//2\n",
    "        return_pad[3] = (pad_x - (im_x%pad_x))//2 + 1\n",
    "\n",
    "    if (pad_y - (im_y%pad_y))%2 == 0:\n",
    "        return_pad[0] = (pad_y - (im_y%pad_y))//2\n",
    "        return_pad[1] = (im_y%pad_y)//2\n",
    "    else:\n",
    "        return_pad[0] = (pad_y - (im_y%pad_y))//2\n",
    "        return_pad[1] = (pad_y - (im_y%pad_y))//2 + 1\n",
    "    return return_pad"
   ]
  },
  {
   "cell_type": "code",
   "execution_count": 4,
   "metadata": {},
   "outputs": [],
   "source": [
    "def split_image(image):\n",
    "    p_x, p_y = PATCH_SIZE\n",
    "    image = image.squeeze()\n",
    "    image = F.pad(image, calculate_pad(image.shape, PATCH_SIZE), mode='constant', value=image.mean())\n",
    "    splits = torch.split(torch.stack(torch.split(image, p_x)), p_y, dim=1)\n",
    "    crops = torch.stack(splits, dim=1)        \n",
    "    crops = crops.view(-1, 1, p_x, p_y)\n",
    "    crops = torch.split(crops, BATCH_SIZE, dim=0)\n",
    "    return crops, image.shape"
   ]
  },
  {
   "cell_type": "code",
   "execution_count": 5,
   "metadata": {},
   "outputs": [],
   "source": [
    "def combine_image(crops, shape):\n",
    "    shape_x, shape_y = shape\n",
    "    answer = torch.cat([i for i in crops], dim=0)\n",
    "    return answer.view(shape_x, shape_y)\n"
   ]
  },
  {
   "cell_type": "code",
   "execution_count": 6,
   "metadata": {},
   "outputs": [],
   "source": [
    "def combine_image_model(crops, model, device, shape):\n",
    "    shape_x, shape_y = shape\n",
    "    answer = torch.cat([crop - model(crop.to(device)).cpu().data for crop in crops], dim=0)\n",
    "    return answer.view(shape_x, shape_y)\n"
   ]
  },
  {
   "cell_type": "code",
   "execution_count": 7,
   "metadata": {},
   "outputs": [],
   "source": [
    "class PlaneLoader(torch.utils.data.Dataset):\n",
    "    def __init__(self, clear_data, noised_data):\n",
    "        self.clear_data = [i for i in torch.load(clear_data) if i.std() < 0.05]\n",
    "        self.noised_data = [i for i in torch.load(noised_data) if i.std() < 0.05]\n",
    "         \n",
    "    def __len__(self):\n",
    "        return len(self.noised_data)\n",
    "    def __getitem__(self, index):\n",
    "        return self.clear_data[index], self.noised_data[index]"
   ]
  },
  {
   "cell_type": "code",
   "execution_count": 8,
   "metadata": {},
   "outputs": [],
   "source": [
    "train_dataloader = torch.utils.data.DataLoader(\n",
    "    PlaneLoader('../Data/train/clear/normalized_data.tensor',\n",
    "                '../Data/train/noised/normalized_data.tensor'), \n",
    "    batch_size=1,\n",
    "    num_workers=NUM_WORKERS,\n",
    "    shuffle=True)\n",
    "\n",
    "val_dataloader = torch.utils.data.DataLoader(\n",
    "    PatchLoader('../Data/val/clear/normalized_data.tensor',\n",
    "                '../Data/val/noised/normalized_data.tensor'), \n",
    "    batch_size=1,\n",
    "    num_workers=NUM_WORKERS,\n",
    "    shuffle=True)"
   ]
  },
  {
   "cell_type": "code",
   "execution_count": 9,
   "metadata": {},
   "outputs": [
    {
     "data": {
      "text/plain": [
       "device(type='cpu')"
      ]
     },
     "execution_count": 9,
     "metadata": {},
     "output_type": "execute_result"
    }
   ],
   "source": [
    "# gpu_num = get_freer_gpu()\n",
    "# device = torch.device('cuda:{}'.format(GPU_NUM))\n",
    "device = torch.device('cpu')\n",
    "\n",
    "device"
   ]
  },
  {
   "cell_type": "code",
   "execution_count": 10,
   "metadata": {},
   "outputs": [],
   "source": [
    "def get_layers(n):\n",
    "    for _ in range(n):\n",
    "        yield [nn.Conv2d(64, 64, 3, padding=1), nn.BatchNorm2d(64), nn.ReLU()]\n",
    "        \n",
    "def flatten(iterables):\n",
    "    return (elem for iterable in iterables for elem in iterable)\n"
   ]
  },
  {
   "cell_type": "code",
   "execution_count": 11,
   "metadata": {},
   "outputs": [],
   "source": [
    "def pairwise_dist(arr, k):\n",
    "    \"\"\"\n",
    "    arr: torch.Tensor with shape batch x h*w x features\n",
    "    \"\"\"\n",
    "    r_arr = torch.sum(arr * arr, dim=2, keepdim=True) # (B,N,1)\n",
    "    mul = torch.matmul(arr, arr.permute(0,2,1))         # (B,M,N)\n",
    "    dist = - (r_arr - 2 * mul + r_arr.permute(0,2,1))       # (B,M,N)\n",
    "    return dist.topk(k=k, dim=-1)[1]\n",
    "\n",
    "def batched_index_select(t, dim, inds):\n",
    "    dummy = inds.unsqueeze(2).expand(inds.size(0), inds.size(1), t.size(2))\n",
    "    out = t.gather(dim, dummy) # b x e x f\n",
    "    return out\n"
   ]
  },
  {
   "cell_type": "code",
   "execution_count": 12,
   "metadata": {},
   "outputs": [
    {
     "data": {
      "text/plain": [
       "True"
      ]
     },
     "execution_count": 12,
     "metadata": {},
     "output_type": "execute_result"
    }
   ],
   "source": [
    "type(None) == type(None)"
   ]
  },
  {
   "cell_type": "code",
   "execution_count": 13,
   "metadata": {},
   "outputs": [],
   "source": [
    "def get_closest_diff(arr, k, dists=None):\n",
    "    \"\"\"\n",
    "    arr: torch.Tensor with shape batch x h * w x features\n",
    "    \"\"\"\n",
    "    b, hw, f = arr.shape\n",
    "    if type(dists) == type(None):\n",
    "        dists = pairwise_dist(arr, k)\n",
    "    selected = batched_index_select(arr, 1, dists.view(dists.shape[0], -1)).view(b, hw, k, f)\n",
    "    diff = arr.unsqueeze(2) - selected\n",
    "    return diff, dists\n"
   ]
  },
  {
   "cell_type": "code",
   "execution_count": 14,
   "metadata": {},
   "outputs": [],
   "source": [
    "class NonLocalAggregation(nn.Module):\n",
    "    def __init__(self, k, input_channels, out_channels):\n",
    "        super().__init__()\n",
    "        self.k = k\n",
    "        self.diff_fc = nn.Linear(input_channels, out_channels)\n",
    "        self.w_self = nn.Linear(input_channels, out_channels, bias=True)\n",
    "        \n",
    "    def forward(self, x, dists=None):\n",
    "        \"\"\"\n",
    "        x: torch.Tensor with shape batch x features x h x w\n",
    "        \"\"\"\n",
    "        x = x.permute(0, 2, 3, 1)\n",
    "        b, h, w, f = x.shape\n",
    "        x = x.view(b, h*w, f)\n",
    "        \n",
    "        closest_graph, dists = get_closest_diff(x, self.k, dists)\n",
    "        agg_weights = self.diff_fc(closest_graph) # look closer\n",
    "        agg_self = self.w_self(x)\n",
    "                \n",
    "        x_new = torch.mean(agg_weights, dim=-2) + agg_self\n",
    "\n",
    "        return x_new.view(b, h, w, x_new.shape[-1]).permute(0, 3, 1, 2), dists"
   ]
  },
  {
   "cell_type": "code",
   "execution_count": 15,
   "metadata": {},
   "outputs": [],
   "source": [
    "class GraphConv(nn.Module):\n",
    "    def __init__(self, k, input_channels, out_channels, search_area=None):\n",
    "        super().__init__()\n",
    "        self.conv1 = nn.Conv2d(input_channels, out_channels, 1)\n",
    "        self.conv2 = nn.Conv2d(input_channels, out_channels, 3, padding=1)\n",
    "        self.NLA = NonLocalAggregation(k, input_channels, out_channels)\n",
    "        \n",
    "    def forward(self, x, dists=None):\n",
    "        nla_res, _ = self.NLA(x, dists)\n",
    "        return torch.mean(torch.stack([self.conv1(x),\n",
    "                                       self.conv2(x),\n",
    "                                       nla_res]), dim=0)\n"
   ]
  },
  {
   "cell_type": "code",
   "execution_count": 16,
   "metadata": {},
   "outputs": [],
   "source": [
    "class PreProcessBlock(nn.Module):\n",
    "    def __init__(self, k, kernel_size, input_channels, out_channels):\n",
    "        super().__init__()\n",
    "        self.conv = nn.Conv2d(input_channels, out_channels, kernel_size,\n",
    "                              padding=(kernel_size//2, kernel_size//2))\n",
    "        self.activ = nn.LeakyReLU(0.05)\n",
    "        self.bn = nn.BatchNorm2d(out_channels)\n",
    "        \n",
    "        self.GC = GraphConv(k, out_channels, out_channels) # out_channels -> out_channels\n",
    "        \n",
    "    def forward(self, x):\n",
    "        x = self.activ(self.conv(x))\n",
    "        x = self.GC(x)\n",
    "        x = self.activ(self.bn(x))\n",
    "        return x\n"
   ]
  },
  {
   "cell_type": "code",
   "execution_count": 17,
   "metadata": {},
   "outputs": [],
   "source": [
    "class ResBlock(nn.Module):\n",
    "    def __init__(self, k, input_channels, out_channels):\n",
    "        super().__init__()\n",
    "        self.gc = GraphConv(k, input_channels, out_channels)\n",
    "        self.bn = nn.BatchNorm2d(out_channels)\n",
    "        self.activ = nn.LeakyReLU(0.05)\n",
    "        \n",
    "    def forward(self, x, dists=None):\n",
    "        x = self.gc(x, dists)\n",
    "        x = self.activ(self.bn(x))\n",
    "        return x, dists\n",
    "    \n",
    "class Residual(nn.Module):\n",
    "    def __init__(self, k, input_channels, out_channels):\n",
    "        super().__init__()\n",
    "        self.res1 = ResBlock(k, input_channels, input_channels)\n",
    "        self.res2 = ResBlock(k, input_channels, input_channels)\n",
    "        self.res3 = ResBlock(k, input_channels, out_channels)\n",
    "        \n",
    "        \n",
    "    def forward(self, x):\n",
    "        x, dists = self.res1(x)\n",
    "        x, dists = self.res2(x, dists)\n",
    "        x, dists = self.res3(x, dists)\n",
    "        return x\n"
   ]
  },
  {
   "cell_type": "code",
   "execution_count": 18,
   "metadata": {},
   "outputs": [],
   "source": [
    "class GCNN(nn.Module):\n",
    "    def __init__(self, k, input_channels=1, hidden_channels=22):\n",
    "        super().__init__()\n",
    "        self.preprocessing_blocks = nn.ModuleList([\n",
    "            PreProcessBlock(k, 3, input_channels, hidden_channels),\n",
    "            PreProcessBlock(k, 5, input_channels, hidden_channels),\n",
    "            PreProcessBlock(k, 7, input_channels, hidden_channels),\n",
    "        ])\n",
    "        self.residual_1 = Residual(k, hidden_channels*3, hidden_channels*3)\n",
    "        self.residual_2 = Residual(k, hidden_channels*3, hidden_channels*3)\n",
    "        \n",
    "        self.GC = GraphConv(k, hidden_channels*3, input_channels)\n",
    "        \n",
    "    def forward(self, image):\n",
    "        processed_image = torch.cat([block(image) for block in self.preprocessing_blocks], dim=1)\n",
    "        residual_1 = self.residual_1(processed_image) + processed_image\n",
    "        residual_2 = self.residual_2(residual_1) + residual_1\n",
    "        return self.GC(residual_2)\n"
   ]
  },
  {
   "cell_type": "code",
   "execution_count": 19,
   "metadata": {},
   "outputs": [],
   "source": [
    "model = GCNN(K_CLOSEST, 1, 22).to(device)\n",
    "\n",
    "optim = torch.optim.Adam(model.parameters())\n",
    "scheduler = torch.optim.lr_scheduler.LambdaLR(optim, lambda x: 0.97**x)"
   ]
  },
  {
   "cell_type": "code",
   "execution_count": 20,
   "metadata": {},
   "outputs": [],
   "source": [
    "from tensorboardX import SummaryWriter\n",
    "import torchvision.utils as vutils\n",
    "\n",
    "\n",
    "writer = SummaryWriter('./TensorBoard/{}'.format(MODEL_NAME))"
   ]
  },
  {
   "cell_type": "code",
   "execution_count": 21,
   "metadata": {},
   "outputs": [],
   "source": [
    "val_images_clear =  torch.load('../Data/val/clear/normalized_data.tensor')\n",
    "val_images_noised =  torch.load('../Data/val/noised/normalized_data.tensor')"
   ]
  },
  {
   "cell_type": "code",
   "execution_count": null,
   "metadata": {},
   "outputs": [
    {
     "data": {
      "application/vnd.jupyter.widget-view+json": {
       "model_id": "9447217b88fe4609913432bec5f1da7d",
       "version_major": 2,
       "version_minor": 0
      },
      "text/plain": [
       "HBox(children=(IntProgress(value=0), HTML(value='')))"
      ]
     },
     "metadata": {},
     "output_type": "display_data"
    },
    {
     "data": {
      "application/vnd.jupyter.widget-view+json": {
       "model_id": "8a8104bd858a4c24a77cf966f1c706ce",
       "version_major": 2,
       "version_minor": 0
      },
      "text/plain": [
       "HBox(children=(IntProgress(value=0, description='Train loop', max=133, style=ProgressStyle(description_width='…"
      ]
     },
     "metadata": {},
     "output_type": "display_data"
    }
   ],
   "source": [
    "for epoch in tqdm.tqdm_notebook(range(100)):\n",
    "    model.train()\n",
    "    for train_ind, (image, noise_image) in enumerate(tqdm.tqdm_notebook(train_dataloader, desc='Train loop', leave=False)):\n",
    "        image_mean = image.mean()\n",
    "        for clean_crop_batch, noisy_crop_batch in zip(split_image(image)[0], split_image(noise_image)[0]):\n",
    "            optim.zero_grad()\n",
    "            clean_crop_batch, noisy_crop_batch = clean_crop_batch.to(device), \\\n",
    "                                                    noisy_crop_batch.to(device)\n",
    "            start_time = time()\n",
    "            denoised_diff = model(noisy_crop_batch)\n",
    "            end_time = time() - start_time\n",
    "            writer.add_scalar('train/iteration_time', end_time)\n",
    "            added_noise = noisy_crop_batch - clean_crop_batch\n",
    "            max_signals = torch.max(clean_crop_batch.view(image.shape[0], -1), dim=1)[0] + image_mean\n",
    "            weighted_mse = torch.mean(max_signals * torch.mean(((denoised_diff - added_noise)**2).view(denoised_diff.shape[0], -1), dim=(1)))\n",
    "            loss = weighted_mse\n",
    "            writer.add_scalar('train/weighted_mse_loss', loss.item())\n",
    "            writer.add_scalar('train/plain_mse_loss', nn.MSELoss()(denoised_diff, added_noise).item())\n",
    "            loss.backward()\n",
    "            \n",
    "            layer_1_grad = np.mean([model.preprocessing_blocks[b].conv.weight.grad.data.norm(2).item() for b in range(3)])\n",
    "            \n",
    "            writer.add_scalar('grad/layer_1', layer_1_grad)\n",
    "            writer.add_scalar('grad/layer_53', model.GC.conv2.weight.grad.data.norm(2).item())\n",
    "            writer.add_scalar('grad/layer_38', model.residual_2.res1.gc.conv2.weight.grad.data.norm(2).item())\n",
    "            writer.add_scalar('grad/layer_11', model.residual_1.res1.gc.conv2.weight.grad.data.norm(2).item())\n",
    "            \n",
    "            optim.step()\n",
    "            writer.add_scalar('train/psnr', compute_psnr(clean_crop_batch, noisy_crop_batch - denoised_diff))\n",
    "    scheduler.step()\n",
    "    model.eval()\n",
    "    losses, psnrs = [], []\n",
    "    for val_ind, (image, noise_image) in enumerate(tqdm.tqdm_notebook(val_dataloader, desc='Test loop', leave=False)):\n",
    "        image_mean = image.mean()\n",
    "        for clean_crop_batch, noisy_crop_batch in zip(split_image(image)[0], split_image(noise_image)[0]):\n",
    "            clean_crop_batch, noisy_crop_batch = clean_crop_batch.to(device), \\\n",
    "                                                    noisy_crop_batch.to(device)\n",
    "            denoised_diff = model(noisy_crop_batch)\n",
    "            added_noise = noisy_crop_batch - clean_crop_batch\n",
    "            max_signals = torch.max(clean_crop_batch.view(image.shape[0], -1), dim=1)[0] + image_mean\n",
    "            weighted_mse = torch.mean(max_signals * torch.mean(((denoised_diff - added_noise)**2).view(denoised_diff.shape[0], -1), dim=(1)))\n",
    "            loss = weighted_mse\n",
    "            losses.append(loss.item())\n",
    "            psnrs.append(compute_psnr(clean_crop_batch, noisy_crop_batch - denoised_diff))\n",
    "    writer.add_scalar('val/psnr', np.mean(psnrs), epoch)\n",
    "    writer.add_scalar('val/combined_loss', np.mean(losses), epoch)\n",
    "    img_indexes = torch.randint(high=len(noisy_crop_batch), size=(10,))\n",
    "    dummy_img = torch.cat([clean_crop_batch[img_indexes],\n",
    "                           noisy_crop_batch[img_indexes],\n",
    "                           (noisy_crop_batch - denoised_diff)[img_indexes]], dim=0).cpu().data\n",
    "    x = vutils.make_grid(dummy_img, nrow=10)\n",
    "    writer.add_image('val/crops', x, epoch)\n",
    "\n",
    "    img_index = torch.randint(high=len(val_images_clear), size=(1,))\n",
    "    clear_image = val_images_clear[img_index]\n",
    "    noised_image = val_images_noised[img_index]\n",
    "    start_time = time()\n",
    "    noised_image_chunks, image_shape = split_image(noised_image)\n",
    "    denoised_image = combine_image_model(noised_image_chunks, model, device, image_shape)\n",
    "    denoised_image = denoised_image.unsqueeze(0)\n",
    "    end_time = time() - start_time\n",
    "    writer.add_scalar('val/full_image_time', end_time, ind)\n",
    "    d_x, d_y = denoised_image.shape[-2:]\n",
    "    writer.add_image('val/clear_image', clear_image[:, :d_x, :d_y], ind)\n",
    "    writer.add_image('val/noised_image', noised_image[:, :d_x, :d_y], ind)\n",
    "    writer.add_image('val/denoised_image', denoised_image[:, :d_x, :d_y], ind)            \n"
   ]
  },
  {
   "cell_type": "code",
   "execution_count": null,
   "metadata": {},
   "outputs": [],
   "source": [
    "torch.save(model.state_dict(), 'SavedModels/{}.state_dict'.format(MODEL_NAME))\n",
    "torch.save(model, 'SavedModels/{}.model'.format(MODEL_NAME))\n"
   ]
  },
  {
   "cell_type": "code",
   "execution_count": null,
   "metadata": {},
   "outputs": [],
   "source": []
  },
  {
   "cell_type": "code",
   "execution_count": null,
   "metadata": {},
   "outputs": [],
   "source": []
  },
  {
   "cell_type": "code",
   "execution_count": null,
   "metadata": {},
   "outputs": [],
   "source": []
  },
  {
   "cell_type": "code",
   "execution_count": null,
   "metadata": {},
   "outputs": [],
   "source": []
  },
  {
   "cell_type": "code",
   "execution_count": null,
   "metadata": {},
   "outputs": [],
   "source": []
  }
 ],
 "metadata": {
  "kernelspec": {
   "display_name": "Python 3",
   "language": "python",
   "name": "python3"
  },
  "language_info": {
   "codemirror_mode": {
    "name": "ipython",
    "version": 3
   },
   "file_extension": ".py",
   "mimetype": "text/x-python",
   "name": "python",
   "nbconvert_exporter": "python",
   "pygments_lexer": "ipython3",
   "version": "3.6.3"
  }
 },
 "nbformat": 4,
 "nbformat_minor": 2
}
